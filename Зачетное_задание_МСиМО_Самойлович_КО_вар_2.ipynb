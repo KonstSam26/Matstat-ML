{
  "nbformat": 4,
  "nbformat_minor": 0,
  "metadata": {
    "kernelspec": {
      "display_name": "Python 3",
      "language": "python",
      "name": "python3"
    },
    "language_info": {
      "codemirror_mode": {
        "name": "ipython",
        "version": 3
      },
      "file_extension": ".py",
      "mimetype": "text/x-python",
      "name": "python",
      "nbconvert_exporter": "python",
      "pygments_lexer": "ipython3",
      "version": "3.7.4"
    },
    "colab": {
      "name": "Вариант_2_Зачетное_задание_МСиМО_Самойлович_КО.ipynb",
      "provenance": [],
      "collapsed_sections": []
    }
  },
  "cells": [
    {
      "cell_type": "markdown",
      "metadata": {
        "id": "YtJ4g_JfCYz0"
      },
      "source": [
        "### Задание 1. Статистика.\n",
        "Для набора данных : https://archive.ics.uci.edu/ml/datasets/auto+mpg\n",
        "1. Импортировать data set.\n",
        "2. Провести предобработку (проверить на наличие выбросов, пропусков). Если есть\n",
        "выбросы, удалить. Если есть пропуски, обработать, как сочтёте нужным.\n",
        "3. Найти числовые характеристики признаков и зависимой переменной.\n",
        "4. Проверить на наличие связей зависимой переменной с факторами и факторов между\n",
        "собой, применяя методы корреляционного анализа и сравнения групп.\n",
        "5. Визуализировать данные и зависимости между ними.\n",
        "\n",
        "### Задание 2. Регрессионный анализ.\n",
        "На основании результатов Задания 1, выбрать значимые факторы и построить регрессионную\n",
        "модель зависимой переменной от признаков, предварительно разбив выборку на обучающую\n",
        "и тестовую.\n",
        "Предложить разные алгоритмы. Выбрать наилучший."
      ]
    },
    {
      "cell_type": "code",
      "metadata": {
        "id": "KTys5QNf9IL8"
      },
      "source": [
        "%matplotlib inline\n",
        "import numpy as np\n",
        "import pandas as pd\n",
        "import matplotlib.pyplot as plt\n",
        "import scipy\n",
        "import scipy.stats as stats\n",
        "import seaborn as sns\n",
        "import sklearn.linear_model as lm\n",
        "\n",
        "pd.options.display.max_rows = 8"
      ],
      "execution_count": null,
      "outputs": []
    },
    {
      "cell_type": "markdown",
      "metadata": {
        "id": "kZgJ950t9IMA"
      },
      "source": [
        "# Импорт данных"
      ]
    },
    {
      "cell_type": "code",
      "metadata": {
        "colab": {
          "resources": {
            "http://localhost:8080/nbextensions/google.colab/files.js": {
              "data": "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",
              "ok": true,
              "headers": [
                [
                  "content-type",
                  "application/javascript"
                ]
              ],
              "status": 200,
              "status_text": ""
            }
          },
          "base_uri": "https://localhost:8080/",
          "height": 73
        },
        "id": "qGvdnoJIdXB5",
        "outputId": "42c194ce-26c3-4df7-abe3-13e2f0bd6578"
      },
      "source": [
        "# Загрузка файла данных\n",
        "from google.colab import files\n",
        "uploaded = files.upload()"
      ],
      "execution_count": null,
      "outputs": [
        {
          "output_type": "display_data",
          "data": {
            "text/html": [
              "\n",
              "     <input type=\"file\" id=\"files-94d8c0bb-4685-4c29-a24b-e71fa887892b\" name=\"files[]\" multiple disabled\n",
              "        style=\"border:none\" />\n",
              "     <output id=\"result-94d8c0bb-4685-4c29-a24b-e71fa887892b\">\n",
              "      Upload widget is only available when the cell has been executed in the\n",
              "      current browser session. Please rerun this cell to enable.\n",
              "      </output>\n",
              "      <script src=\"/nbextensions/google.colab/files.js\"></script> "
            ],
            "text/plain": [
              "<IPython.core.display.HTML object>"
            ]
          },
          "metadata": {
            "tags": []
          }
        },
        {
          "output_type": "stream",
          "text": [
            "Saving auto-mpg.data to auto-mpg.data\n"
          ],
          "name": "stdout"
        }
      ]
    },
    {
      "cell_type": "code",
      "metadata": {
        "scrolled": true,
        "id": "SiO0Wz8N9IMB"
      },
      "source": [
        "cars = pd.read_csv('auto-mpg.data', sep='\\s+',\n",
        "                   names=['mpg',\n",
        "                          'cylinders',\n",
        "                          'displacement',\n",
        "                          'horsepower',\n",
        "                          'weight',\n",
        "                          'acceleration',\n",
        "                          'model_year',\n",
        "                          'origin',\n",
        "                          'car_name'])"
      ],
      "execution_count": null,
      "outputs": []
    },
    {
      "cell_type": "code",
      "metadata": {
        "colab": {
          "base_uri": "https://localhost:8080/",
          "height": 430
        },
        "id": "flvYloV_7Krr",
        "outputId": "f2700b46-2e9e-44ae-800f-120df2d4ea51"
      },
      "source": [
        "cars"
      ],
      "execution_count": null,
      "outputs": [
        {
          "output_type": "execute_result",
          "data": {
            "text/html": [
              "<div>\n",
              "<style scoped>\n",
              "    .dataframe tbody tr th:only-of-type {\n",
              "        vertical-align: middle;\n",
              "    }\n",
              "\n",
              "    .dataframe tbody tr th {\n",
              "        vertical-align: top;\n",
              "    }\n",
              "\n",
              "    .dataframe thead th {\n",
              "        text-align: right;\n",
              "    }\n",
              "</style>\n",
              "<table border=\"1\" class=\"dataframe\">\n",
              "  <thead>\n",
              "    <tr style=\"text-align: right;\">\n",
              "      <th></th>\n",
              "      <th>mpg</th>\n",
              "      <th>cylinders</th>\n",
              "      <th>displacement</th>\n",
              "      <th>horsepower</th>\n",
              "      <th>weight</th>\n",
              "      <th>acceleration</th>\n",
              "      <th>model_year</th>\n",
              "      <th>origin</th>\n",
              "      <th>car_name</th>\n",
              "    </tr>\n",
              "  </thead>\n",
              "  <tbody>\n",
              "    <tr>\n",
              "      <th>0</th>\n",
              "      <td>18.0</td>\n",
              "      <td>8</td>\n",
              "      <td>307.0</td>\n",
              "      <td>130.0</td>\n",
              "      <td>3504.0</td>\n",
              "      <td>12.0</td>\n",
              "      <td>70</td>\n",
              "      <td>1</td>\n",
              "      <td>chevrolet chevelle malibu</td>\n",
              "    </tr>\n",
              "    <tr>\n",
              "      <th>1</th>\n",
              "      <td>15.0</td>\n",
              "      <td>8</td>\n",
              "      <td>350.0</td>\n",
              "      <td>165.0</td>\n",
              "      <td>3693.0</td>\n",
              "      <td>11.5</td>\n",
              "      <td>70</td>\n",
              "      <td>1</td>\n",
              "      <td>buick skylark 320</td>\n",
              "    </tr>\n",
              "    <tr>\n",
              "      <th>2</th>\n",
              "      <td>18.0</td>\n",
              "      <td>8</td>\n",
              "      <td>318.0</td>\n",
              "      <td>150.0</td>\n",
              "      <td>3436.0</td>\n",
              "      <td>11.0</td>\n",
              "      <td>70</td>\n",
              "      <td>1</td>\n",
              "      <td>plymouth satellite</td>\n",
              "    </tr>\n",
              "    <tr>\n",
              "      <th>3</th>\n",
              "      <td>16.0</td>\n",
              "      <td>8</td>\n",
              "      <td>304.0</td>\n",
              "      <td>150.0</td>\n",
              "      <td>3433.0</td>\n",
              "      <td>12.0</td>\n",
              "      <td>70</td>\n",
              "      <td>1</td>\n",
              "      <td>amc rebel sst</td>\n",
              "    </tr>\n",
              "    <tr>\n",
              "      <th>...</th>\n",
              "      <td>...</td>\n",
              "      <td>...</td>\n",
              "      <td>...</td>\n",
              "      <td>...</td>\n",
              "      <td>...</td>\n",
              "      <td>...</td>\n",
              "      <td>...</td>\n",
              "      <td>...</td>\n",
              "      <td>...</td>\n",
              "    </tr>\n",
              "    <tr>\n",
              "      <th>394</th>\n",
              "      <td>44.0</td>\n",
              "      <td>4</td>\n",
              "      <td>97.0</td>\n",
              "      <td>52.00</td>\n",
              "      <td>2130.0</td>\n",
              "      <td>24.6</td>\n",
              "      <td>82</td>\n",
              "      <td>2</td>\n",
              "      <td>vw pickup</td>\n",
              "    </tr>\n",
              "    <tr>\n",
              "      <th>395</th>\n",
              "      <td>32.0</td>\n",
              "      <td>4</td>\n",
              "      <td>135.0</td>\n",
              "      <td>84.00</td>\n",
              "      <td>2295.0</td>\n",
              "      <td>11.6</td>\n",
              "      <td>82</td>\n",
              "      <td>1</td>\n",
              "      <td>dodge rampage</td>\n",
              "    </tr>\n",
              "    <tr>\n",
              "      <th>396</th>\n",
              "      <td>28.0</td>\n",
              "      <td>4</td>\n",
              "      <td>120.0</td>\n",
              "      <td>79.00</td>\n",
              "      <td>2625.0</td>\n",
              "      <td>18.6</td>\n",
              "      <td>82</td>\n",
              "      <td>1</td>\n",
              "      <td>ford ranger</td>\n",
              "    </tr>\n",
              "    <tr>\n",
              "      <th>397</th>\n",
              "      <td>31.0</td>\n",
              "      <td>4</td>\n",
              "      <td>119.0</td>\n",
              "      <td>82.00</td>\n",
              "      <td>2720.0</td>\n",
              "      <td>19.4</td>\n",
              "      <td>82</td>\n",
              "      <td>1</td>\n",
              "      <td>chevy s-10</td>\n",
              "    </tr>\n",
              "  </tbody>\n",
              "</table>\n",
              "<p>398 rows × 9 columns</p>\n",
              "</div>"
            ],
            "text/plain": [
              "      mpg  cylinders  ...  origin                   car_name\n",
              "0    18.0          8  ...       1  chevrolet chevelle malibu\n",
              "1    15.0          8  ...       1          buick skylark 320\n",
              "2    18.0          8  ...       1         plymouth satellite\n",
              "3    16.0          8  ...       1              amc rebel sst\n",
              "..    ...        ...  ...     ...                        ...\n",
              "394  44.0          4  ...       2                  vw pickup\n",
              "395  32.0          4  ...       1              dodge rampage\n",
              "396  28.0          4  ...       1                ford ranger\n",
              "397  31.0          4  ...       1                 chevy s-10\n",
              "\n",
              "[398 rows x 9 columns]"
            ]
          },
          "metadata": {
            "tags": []
          },
          "execution_count": 5
        }
      ]
    },
    {
      "cell_type": "markdown",
      "metadata": {
        "id": "2CRkOTiC7hu5"
      },
      "source": [
        "По условиям задачи в столбце horsepower 6 значений пропущено (Missing Attribute Values:  horsepower has 6 missing values)."
      ]
    },
    {
      "cell_type": "code",
      "metadata": {
        "colab": {
          "base_uri": "https://localhost:8080/",
          "height": 395
        },
        "id": "D7DAeLtH-cqb",
        "outputId": "fd004fde-40cb-4293-eaba-6356f9b2dc87"
      },
      "source": [
        "# отсортировав по столбцу horsepower, видим, \n",
        "# что в пропущенных ячейках стоит знак \"?\"\n",
        "cars.sort_values('horsepower', ascending=False)"
      ],
      "execution_count": null,
      "outputs": [
        {
          "output_type": "execute_result",
          "data": {
            "text/html": [
              "<div>\n",
              "<style scoped>\n",
              "    .dataframe tbody tr th:only-of-type {\n",
              "        vertical-align: middle;\n",
              "    }\n",
              "\n",
              "    .dataframe tbody tr th {\n",
              "        vertical-align: top;\n",
              "    }\n",
              "\n",
              "    .dataframe thead th {\n",
              "        text-align: right;\n",
              "    }\n",
              "</style>\n",
              "<table border=\"1\" class=\"dataframe\">\n",
              "  <thead>\n",
              "    <tr style=\"text-align: right;\">\n",
              "      <th></th>\n",
              "      <th>mpg</th>\n",
              "      <th>cylinders</th>\n",
              "      <th>displacement</th>\n",
              "      <th>horsepower</th>\n",
              "      <th>weight</th>\n",
              "      <th>acceleration</th>\n",
              "      <th>model_year</th>\n",
              "      <th>origin</th>\n",
              "      <th>car_name</th>\n",
              "    </tr>\n",
              "  </thead>\n",
              "  <tbody>\n",
              "    <tr>\n",
              "      <th>354</th>\n",
              "      <td>34.5</td>\n",
              "      <td>4</td>\n",
              "      <td>100.0</td>\n",
              "      <td>?</td>\n",
              "      <td>2320.0</td>\n",
              "      <td>15.8</td>\n",
              "      <td>81</td>\n",
              "      <td>2</td>\n",
              "      <td>renault 18i</td>\n",
              "    </tr>\n",
              "    <tr>\n",
              "      <th>374</th>\n",
              "      <td>23.0</td>\n",
              "      <td>4</td>\n",
              "      <td>151.0</td>\n",
              "      <td>?</td>\n",
              "      <td>3035.0</td>\n",
              "      <td>20.5</td>\n",
              "      <td>82</td>\n",
              "      <td>1</td>\n",
              "      <td>amc concord dl</td>\n",
              "    </tr>\n",
              "    <tr>\n",
              "      <th>126</th>\n",
              "      <td>21.0</td>\n",
              "      <td>6</td>\n",
              "      <td>200.0</td>\n",
              "      <td>?</td>\n",
              "      <td>2875.0</td>\n",
              "      <td>17.0</td>\n",
              "      <td>74</td>\n",
              "      <td>1</td>\n",
              "      <td>ford maverick</td>\n",
              "    </tr>\n",
              "    <tr>\n",
              "      <th>330</th>\n",
              "      <td>40.9</td>\n",
              "      <td>4</td>\n",
              "      <td>85.0</td>\n",
              "      <td>?</td>\n",
              "      <td>1835.0</td>\n",
              "      <td>17.3</td>\n",
              "      <td>80</td>\n",
              "      <td>2</td>\n",
              "      <td>renault lecar deluxe</td>\n",
              "    </tr>\n",
              "    <tr>\n",
              "      <th>...</th>\n",
              "      <td>...</td>\n",
              "      <td>...</td>\n",
              "      <td>...</td>\n",
              "      <td>...</td>\n",
              "      <td>...</td>\n",
              "      <td>...</td>\n",
              "      <td>...</td>\n",
              "      <td>...</td>\n",
              "      <td>...</td>\n",
              "    </tr>\n",
              "    <tr>\n",
              "      <th>99</th>\n",
              "      <td>18.0</td>\n",
              "      <td>6</td>\n",
              "      <td>232.0</td>\n",
              "      <td>100.0</td>\n",
              "      <td>2945.0</td>\n",
              "      <td>16.0</td>\n",
              "      <td>73</td>\n",
              "      <td>1</td>\n",
              "      <td>amc hornet</td>\n",
              "    </tr>\n",
              "    <tr>\n",
              "      <th>107</th>\n",
              "      <td>18.0</td>\n",
              "      <td>6</td>\n",
              "      <td>232.0</td>\n",
              "      <td>100.0</td>\n",
              "      <td>2789.0</td>\n",
              "      <td>15.0</td>\n",
              "      <td>73</td>\n",
              "      <td>1</td>\n",
              "      <td>amc gremlin</td>\n",
              "    </tr>\n",
              "    <tr>\n",
              "      <th>127</th>\n",
              "      <td>19.0</td>\n",
              "      <td>6</td>\n",
              "      <td>232.0</td>\n",
              "      <td>100.0</td>\n",
              "      <td>2901.0</td>\n",
              "      <td>16.0</td>\n",
              "      <td>74</td>\n",
              "      <td>1</td>\n",
              "      <td>amc hornet</td>\n",
              "    </tr>\n",
              "    <tr>\n",
              "      <th>199</th>\n",
              "      <td>20.0</td>\n",
              "      <td>6</td>\n",
              "      <td>225.0</td>\n",
              "      <td>100.0</td>\n",
              "      <td>3651.0</td>\n",
              "      <td>17.7</td>\n",
              "      <td>76</td>\n",
              "      <td>1</td>\n",
              "      <td>dodge aspen se</td>\n",
              "    </tr>\n",
              "  </tbody>\n",
              "</table>\n",
              "<p>398 rows × 9 columns</p>\n",
              "</div>"
            ],
            "text/plain": [
              "      mpg  cylinders  displacement  ... model_year  origin              car_name\n",
              "354  34.5          4         100.0  ...         81       2           renault 18i\n",
              "374  23.0          4         151.0  ...         82       1        amc concord dl\n",
              "126  21.0          6         200.0  ...         74       1         ford maverick\n",
              "330  40.9          4          85.0  ...         80       2  renault lecar deluxe\n",
              "..    ...        ...           ...  ...        ...     ...                   ...\n",
              "99   18.0          6         232.0  ...         73       1            amc hornet\n",
              "107  18.0          6         232.0  ...         73       1           amc gremlin\n",
              "127  19.0          6         232.0  ...         74       1            amc hornet\n",
              "199  20.0          6         225.0  ...         76       1        dodge aspen se\n",
              "\n",
              "[398 rows x 9 columns]"
            ]
          },
          "metadata": {
            "tags": []
          },
          "execution_count": 6
        }
      ]
    },
    {
      "cell_type": "code",
      "metadata": {
        "colab": {
          "base_uri": "https://localhost:8080/",
          "height": 272
        },
        "id": "SUqHyU1D_QRS",
        "outputId": "63c02503-b448-440f-9f9b-970009b4af6f"
      },
      "source": [
        "# находим строки со знаком \"?\" в столбце horsepower\n",
        "cars.loc[(cars['horsepower'] == '?')]"
      ],
      "execution_count": null,
      "outputs": [
        {
          "output_type": "execute_result",
          "data": {
            "text/html": [
              "<div>\n",
              "<style scoped>\n",
              "    .dataframe tbody tr th:only-of-type {\n",
              "        vertical-align: middle;\n",
              "    }\n",
              "\n",
              "    .dataframe tbody tr th {\n",
              "        vertical-align: top;\n",
              "    }\n",
              "\n",
              "    .dataframe thead th {\n",
              "        text-align: right;\n",
              "    }\n",
              "</style>\n",
              "<table border=\"1\" class=\"dataframe\">\n",
              "  <thead>\n",
              "    <tr style=\"text-align: right;\">\n",
              "      <th></th>\n",
              "      <th>mpg</th>\n",
              "      <th>cylinders</th>\n",
              "      <th>displacement</th>\n",
              "      <th>horsepower</th>\n",
              "      <th>weight</th>\n",
              "      <th>acceleration</th>\n",
              "      <th>model_year</th>\n",
              "      <th>origin</th>\n",
              "      <th>car_name</th>\n",
              "    </tr>\n",
              "  </thead>\n",
              "  <tbody>\n",
              "    <tr>\n",
              "      <th>32</th>\n",
              "      <td>25.0</td>\n",
              "      <td>4</td>\n",
              "      <td>98.0</td>\n",
              "      <td>?</td>\n",
              "      <td>2046.0</td>\n",
              "      <td>19.0</td>\n",
              "      <td>71</td>\n",
              "      <td>1</td>\n",
              "      <td>ford pinto</td>\n",
              "    </tr>\n",
              "    <tr>\n",
              "      <th>126</th>\n",
              "      <td>21.0</td>\n",
              "      <td>6</td>\n",
              "      <td>200.0</td>\n",
              "      <td>?</td>\n",
              "      <td>2875.0</td>\n",
              "      <td>17.0</td>\n",
              "      <td>74</td>\n",
              "      <td>1</td>\n",
              "      <td>ford maverick</td>\n",
              "    </tr>\n",
              "    <tr>\n",
              "      <th>330</th>\n",
              "      <td>40.9</td>\n",
              "      <td>4</td>\n",
              "      <td>85.0</td>\n",
              "      <td>?</td>\n",
              "      <td>1835.0</td>\n",
              "      <td>17.3</td>\n",
              "      <td>80</td>\n",
              "      <td>2</td>\n",
              "      <td>renault lecar deluxe</td>\n",
              "    </tr>\n",
              "    <tr>\n",
              "      <th>336</th>\n",
              "      <td>23.6</td>\n",
              "      <td>4</td>\n",
              "      <td>140.0</td>\n",
              "      <td>?</td>\n",
              "      <td>2905.0</td>\n",
              "      <td>14.3</td>\n",
              "      <td>80</td>\n",
              "      <td>1</td>\n",
              "      <td>ford mustang cobra</td>\n",
              "    </tr>\n",
              "    <tr>\n",
              "      <th>354</th>\n",
              "      <td>34.5</td>\n",
              "      <td>4</td>\n",
              "      <td>100.0</td>\n",
              "      <td>?</td>\n",
              "      <td>2320.0</td>\n",
              "      <td>15.8</td>\n",
              "      <td>81</td>\n",
              "      <td>2</td>\n",
              "      <td>renault 18i</td>\n",
              "    </tr>\n",
              "    <tr>\n",
              "      <th>374</th>\n",
              "      <td>23.0</td>\n",
              "      <td>4</td>\n",
              "      <td>151.0</td>\n",
              "      <td>?</td>\n",
              "      <td>3035.0</td>\n",
              "      <td>20.5</td>\n",
              "      <td>82</td>\n",
              "      <td>1</td>\n",
              "      <td>amc concord dl</td>\n",
              "    </tr>\n",
              "  </tbody>\n",
              "</table>\n",
              "</div>"
            ],
            "text/plain": [
              "      mpg  cylinders  displacement  ... model_year  origin              car_name\n",
              "32   25.0          4          98.0  ...         71       1            ford pinto\n",
              "126  21.0          6         200.0  ...         74       1         ford maverick\n",
              "330  40.9          4          85.0  ...         80       2  renault lecar deluxe\n",
              "336  23.6          4         140.0  ...         80       1    ford mustang cobra\n",
              "354  34.5          4         100.0  ...         81       2           renault 18i\n",
              "374  23.0          4         151.0  ...         82       1        amc concord dl\n",
              "\n",
              "[6 rows x 9 columns]"
            ]
          },
          "metadata": {
            "tags": []
          },
          "execution_count": 7
        }
      ]
    },
    {
      "cell_type": "code",
      "metadata": {
        "id": "-hCy7ZBx_hCh"
      },
      "source": [
        "# удаляем эти строки\n",
        "cars=cars.drop(cars.index[[32, 126, 330, 336, 354, 374]])"
      ],
      "execution_count": null,
      "outputs": []
    },
    {
      "cell_type": "code",
      "metadata": {
        "colab": {
          "base_uri": "https://localhost:8080/"
        },
        "id": "V4njNOGU_9cR",
        "outputId": "4a6f039b-64b7-4b2b-c518-454605b0e03d"
      },
      "source": [
        "# меняем тип переменной в столбце horsepower c object на float\n",
        "cars = cars.astype({'horsepower': np.float})\n",
        "cars.info()"
      ],
      "execution_count": null,
      "outputs": [
        {
          "output_type": "stream",
          "text": [
            "<class 'pandas.core.frame.DataFrame'>\n",
            "Int64Index: 392 entries, 0 to 397\n",
            "Data columns (total 9 columns):\n",
            " #   Column        Non-Null Count  Dtype  \n",
            "---  ------        --------------  -----  \n",
            " 0   mpg           392 non-null    float64\n",
            " 1   cylinders     392 non-null    int64  \n",
            " 2   displacement  392 non-null    float64\n",
            " 3   horsepower    392 non-null    float64\n",
            " 4   weight        392 non-null    float64\n",
            " 5   acceleration  392 non-null    float64\n",
            " 6   model_year    392 non-null    int64  \n",
            " 7   origin        392 non-null    int64  \n",
            " 8   car_name      392 non-null    object \n",
            "dtypes: float64(5), int64(3), object(1)\n",
            "memory usage: 30.6+ KB\n"
          ],
          "name": "stdout"
        }
      ]
    },
    {
      "cell_type": "markdown",
      "metadata": {
        "id": "1oKdpr5-Q4XT"
      },
      "source": [
        "# Выполнение задания. Часть 1 - Статистика"
      ]
    },
    {
      "cell_type": "markdown",
      "metadata": {
        "id": "BaNHfTbj9IMD"
      },
      "source": [
        "# Визуализация данных и зависимостей между ними\n"
      ]
    },
    {
      "cell_type": "code",
      "metadata": {
        "id": "X3XKqGjL9IME",
        "colab": {
          "base_uri": "https://localhost:8080/",
          "height": 283
        },
        "outputId": "23d99076-5f92-4ecc-ae61-f31f8ec31fd1"
      },
      "source": [
        "cars['mpg'].hist(bins=10)  #  гистограмма частотой характеристики целевой переменной mpg"
      ],
      "execution_count": null,
      "outputs": [
        {
          "output_type": "execute_result",
          "data": {
            "text/plain": [
              "<matplotlib.axes._subplots.AxesSubplot at 0x7f1edcb2e190>"
            ]
          },
          "metadata": {
            "tags": []
          },
          "execution_count": 11
        },
        {
          "output_type": "display_data",
          "data": {
            "image/png": "[encoded data removed]",
            "text/plain": [
              "<Figure size 432x288 with 1 Axes>"
            ]
          },
          "metadata": {
            "tags": [],
            "needs_background": "light"
          }
        }
      ]
    },
    {
      "cell_type": "code",
      "metadata": {
        "id": "t3Xia9Ic9IMF",
        "colab": {
          "base_uri": "https://localhost:8080/",
          "height": 283
        },
        "outputId": "6c9a3153-5f2b-4863-c4cf-229c938618e0"
      },
      "source": [
        "cars['horsepower'].hist(bins=8)  #  гистограмма частотой характеристики переменной horsepower (мощность двигателя)"
      ],
      "execution_count": null,
      "outputs": [
        {
          "output_type": "execute_result",
          "data": {
            "text/plain": [
              "<matplotlib.axes._subplots.AxesSubplot at 0x7f1edcb69a90>"
            ]
          },
          "metadata": {
            "tags": []
          },
          "execution_count": 12
        },
        {
          "output_type": "display_data",
          "data": {
            "image/png": "[encoded data removed]",
            "text/plain": [
              "<Figure size 432x288 with 1 Axes>"
            ]
          },
          "metadata": {
            "tags": [],
            "needs_background": "light"
          }
        }
      ]
    },
    {
      "cell_type": "markdown",
      "metadata": {
        "id": "VpU9MWQ-9IMG"
      },
      "source": [
        "Проверка гипотезы о нормальности по Шапиро-Уилку"
      ]
    },
    {
      "cell_type": "code",
      "metadata": {
        "id": "pBfhYTzr9IMH",
        "colab": {
          "base_uri": "https://localhost:8080/"
        },
        "outputId": "2f16431c-4f43-4698-89dd-9b305a966788"
      },
      "source": [
        "stats.shapiro(cars['mpg'])"
      ],
      "execution_count": null,
      "outputs": [
        {
          "output_type": "execute_result",
          "data": {
            "text/plain": [
              "(0.9671697616577148, 1.0494927948911936e-07)"
            ]
          },
          "metadata": {
            "tags": []
          },
          "execution_count": 13
        }
      ]
    },
    {
      "cell_type": "code",
      "metadata": {
        "id": "YyM9dtHW9IMI",
        "colab": {
          "base_uri": "https://localhost:8080/"
        },
        "outputId": "2e78d99d-7224-41ce-f466-28aae428a133"
      },
      "source": [
        "stats.shapiro(cars['horsepower'])"
      ],
      "execution_count": null,
      "outputs": [
        {
          "output_type": "execute_result",
          "data": {
            "text/plain": [
              "(0.9040973782539368, 5.021926207130975e-15)"
            ]
          },
          "metadata": {
            "tags": []
          },
          "execution_count": 14
        }
      ]
    },
    {
      "cell_type": "markdown",
      "metadata": {
        "id": "PqQ9KrDSOKge"
      },
      "source": [
        " В обоих случаях величина p-value значительно ниже стандартного p-уровня значимости 0,05, следовательно нулевую гипотезу о нормальности распределения выборки ОТКЛОНЯЕМ."
      ]
    },
    {
      "cell_type": "code",
      "metadata": {
        "id": "g2YJzaDv9IMK",
        "colab": {
          "base_uri": "https://localhost:8080/",
          "height": 300
        },
        "outputId": "396fd440-c4f4-406f-f75b-45afddcf0e06"
      },
      "source": [
        "# убираем из набора категориальные величины и оениваем наши данные с помощью функции describe()\n",
        "\n",
        "cars.drop(['origin','car_name', 'model_year'],axis=1).describe()  "
      ],
      "execution_count": null,
      "outputs": [
        {
          "output_type": "execute_result",
          "data": {
            "text/html": [
              "<div>\n",
              "<style scoped>\n",
              "    .dataframe tbody tr th:only-of-type {\n",
              "        vertical-align: middle;\n",
              "    }\n",
              "\n",
              "    .dataframe tbody tr th {\n",
              "        vertical-align: top;\n",
              "    }\n",
              "\n",
              "    .dataframe thead th {\n",
              "        text-align: right;\n",
              "    }\n",
              "</style>\n",
              "<table border=\"1\" class=\"dataframe\">\n",
              "  <thead>\n",
              "    <tr style=\"text-align: right;\">\n",
              "      <th></th>\n",
              "      <th>mpg</th>\n",
              "      <th>cylinders</th>\n",
              "      <th>displacement</th>\n",
              "      <th>horsepower</th>\n",
              "      <th>weight</th>\n",
              "      <th>acceleration</th>\n",
              "    </tr>\n",
              "  </thead>\n",
              "  <tbody>\n",
              "    <tr>\n",
              "      <th>count</th>\n",
              "      <td>392.000000</td>\n",
              "      <td>392.000000</td>\n",
              "      <td>392.000000</td>\n",
              "      <td>392.000000</td>\n",
              "      <td>392.000000</td>\n",
              "      <td>392.000000</td>\n",
              "    </tr>\n",
              "    <tr>\n",
              "      <th>mean</th>\n",
              "      <td>23.445918</td>\n",
              "      <td>5.471939</td>\n",
              "      <td>194.411990</td>\n",
              "      <td>104.469388</td>\n",
              "      <td>2977.584184</td>\n",
              "      <td>15.541327</td>\n",
              "    </tr>\n",
              "    <tr>\n",
              "      <th>std</th>\n",
              "      <td>7.805007</td>\n",
              "      <td>1.705783</td>\n",
              "      <td>104.644004</td>\n",
              "      <td>38.491160</td>\n",
              "      <td>849.402560</td>\n",
              "      <td>2.758864</td>\n",
              "    </tr>\n",
              "    <tr>\n",
              "      <th>min</th>\n",
              "      <td>9.000000</td>\n",
              "      <td>3.000000</td>\n",
              "      <td>68.000000</td>\n",
              "      <td>46.000000</td>\n",
              "      <td>1613.000000</td>\n",
              "      <td>8.000000</td>\n",
              "    </tr>\n",
              "    <tr>\n",
              "      <th>25%</th>\n",
              "      <td>17.000000</td>\n",
              "      <td>4.000000</td>\n",
              "      <td>105.000000</td>\n",
              "      <td>75.000000</td>\n",
              "      <td>2225.250000</td>\n",
              "      <td>13.775000</td>\n",
              "    </tr>\n",
              "    <tr>\n",
              "      <th>50%</th>\n",
              "      <td>22.750000</td>\n",
              "      <td>4.000000</td>\n",
              "      <td>151.000000</td>\n",
              "      <td>93.500000</td>\n",
              "      <td>2803.500000</td>\n",
              "      <td>15.500000</td>\n",
              "    </tr>\n",
              "    <tr>\n",
              "      <th>75%</th>\n",
              "      <td>29.000000</td>\n",
              "      <td>8.000000</td>\n",
              "      <td>275.750000</td>\n",
              "      <td>126.000000</td>\n",
              "      <td>3614.750000</td>\n",
              "      <td>17.025000</td>\n",
              "    </tr>\n",
              "    <tr>\n",
              "      <th>max</th>\n",
              "      <td>46.600000</td>\n",
              "      <td>8.000000</td>\n",
              "      <td>455.000000</td>\n",
              "      <td>230.000000</td>\n",
              "      <td>5140.000000</td>\n",
              "      <td>24.800000</td>\n",
              "    </tr>\n",
              "  </tbody>\n",
              "</table>\n",
              "</div>"
            ],
            "text/plain": [
              "              mpg   cylinders  ...       weight  acceleration\n",
              "count  392.000000  392.000000  ...   392.000000    392.000000\n",
              "mean    23.445918    5.471939  ...  2977.584184     15.541327\n",
              "std      7.805007    1.705783  ...   849.402560      2.758864\n",
              "min      9.000000    3.000000  ...  1613.000000      8.000000\n",
              "25%     17.000000    4.000000  ...  2225.250000     13.775000\n",
              "50%     22.750000    4.000000  ...  2803.500000     15.500000\n",
              "75%     29.000000    8.000000  ...  3614.750000     17.025000\n",
              "max     46.600000    8.000000  ...  5140.000000     24.800000\n",
              "\n",
              "[8 rows x 6 columns]"
            ]
          },
          "metadata": {
            "tags": []
          },
          "execution_count": 15
        }
      ]
    },
    {
      "cell_type": "markdown",
      "metadata": {
        "id": "jDZYSISq9IMN"
      },
      "source": [
        "## Анализ влияния количественных и порядковых признаков"
      ]
    },
    {
      "cell_type": "code",
      "metadata": {
        "id": "oqkeZqLA9IMO",
        "colab": {
          "base_uri": "https://localhost:8080/",
          "height": 297
        },
        "outputId": "c8d3f384-f38f-4ba3-ff17-0a7ba75da4a2"
      },
      "source": [
        "cars.plot('horsepower','mpg',kind=\"scatter\") "
      ],
      "execution_count": null,
      "outputs": [
        {
          "output_type": "execute_result",
          "data": {
            "text/plain": [
              "<matplotlib.axes._subplots.AxesSubplot at 0x7f1edca8da90>"
            ]
          },
          "metadata": {
            "tags": []
          },
          "execution_count": 16
        },
        {
          "output_type": "display_data",
          "data": {
            "image/png": "[encoded data removed]",
            "text/plain": [
              "<Figure size 432x288 with 1 Axes>"
            ]
          },
          "metadata": {
            "tags": [],
            "needs_background": "light"
          }
        }
      ]
    },
    {
      "cell_type": "code",
      "metadata": {
        "colab": {
          "base_uri": "https://localhost:8080/",
          "height": 297
        },
        "id": "EfuIq80mIJHV",
        "outputId": "610d7adc-d8d9-42bc-e459-ea993a7c43b5"
      },
      "source": [
        "cars.plot('weight','mpg', kind=\"scatter\")"
      ],
      "execution_count": null,
      "outputs": [
        {
          "output_type": "execute_result",
          "data": {
            "text/plain": [
              "<matplotlib.axes._subplots.AxesSubplot at 0x7f1edc506f50>"
            ]
          },
          "metadata": {
            "tags": []
          },
          "execution_count": 17
        },
        {
          "output_type": "display_data",
          "data": {
            "image/png": "[encoded data removed]",
            "text/plain": [
              "<Figure size 432x288 with 1 Axes>"
            ]
          },
          "metadata": {
            "tags": [],
            "needs_background": "light"
          }
        }
      ]
    },
    {
      "cell_type": "code",
      "metadata": {
        "id": "XMy0S5OR9IMP",
        "colab": {
          "base_uri": "https://localhost:8080/",
          "height": 388
        },
        "outputId": "44ba1f26-b321-415a-a859-08620a08ea3f"
      },
      "source": [
        "f, ax = plt.subplots(figsize=(6, 6))\n",
        "fig = sns.boxplot(x='cylinders', y='mpg', data=cars)"
      ],
      "execution_count": null,
      "outputs": [
        {
          "output_type": "display_data",
          "data": {
            "image/png": "[encoded data removed]",
            "text/plain": [
              "<Figure size 432x432 with 1 Axes>"
            ]
          },
          "metadata": {
            "tags": [],
            "needs_background": "light"
          }
        }
      ]
    },
    {
      "cell_type": "markdown",
      "metadata": {
        "id": "JiPESF1JYwQk"
      },
      "source": [
        "Хорошо видно, что для автомобилей с 6 и 8 цилиндрами имеются выбросы данных, которые могут привести к ошибкам анализа."
      ]
    },
    {
      "cell_type": "markdown",
      "metadata": {
        "id": "3sUNnWo8ZMcT"
      },
      "source": [
        "# Проверка корреляции величин "
      ]
    },
    {
      "cell_type": "code",
      "metadata": {
        "id": "xM3vB8UG9IMP",
        "colab": {
          "base_uri": "https://localhost:8080/",
          "height": 237
        },
        "outputId": "b7e2695f-0a5b-4503-c091-cd38baba3f8d"
      },
      "source": [
        "# количественная корреляция Пирсона\n",
        "cars[['mpg', 'cylinders', 'displacement', 'horsepower','weight', 'acceleration']].corr(method='pearson') "
      ],
      "execution_count": null,
      "outputs": [
        {
          "output_type": "execute_result",
          "data": {
            "text/html": [
              "<div>\n",
              "<style scoped>\n",
              "    .dataframe tbody tr th:only-of-type {\n",
              "        vertical-align: middle;\n",
              "    }\n",
              "\n",
              "    .dataframe tbody tr th {\n",
              "        vertical-align: top;\n",
              "    }\n",
              "\n",
              "    .dataframe thead th {\n",
              "        text-align: right;\n",
              "    }\n",
              "</style>\n",
              "<table border=\"1\" class=\"dataframe\">\n",
              "  <thead>\n",
              "    <tr style=\"text-align: right;\">\n",
              "      <th></th>\n",
              "      <th>mpg</th>\n",
              "      <th>cylinders</th>\n",
              "      <th>displacement</th>\n",
              "      <th>horsepower</th>\n",
              "      <th>weight</th>\n",
              "      <th>acceleration</th>\n",
              "    </tr>\n",
              "  </thead>\n",
              "  <tbody>\n",
              "    <tr>\n",
              "      <th>mpg</th>\n",
              "      <td>1.000000</td>\n",
              "      <td>-0.777618</td>\n",
              "      <td>-0.805127</td>\n",
              "      <td>-0.778427</td>\n",
              "      <td>-0.832244</td>\n",
              "      <td>0.423329</td>\n",
              "    </tr>\n",
              "    <tr>\n",
              "      <th>cylinders</th>\n",
              "      <td>-0.777618</td>\n",
              "      <td>1.000000</td>\n",
              "      <td>0.950823</td>\n",
              "      <td>0.842983</td>\n",
              "      <td>0.897527</td>\n",
              "      <td>-0.504683</td>\n",
              "    </tr>\n",
              "    <tr>\n",
              "      <th>displacement</th>\n",
              "      <td>-0.805127</td>\n",
              "      <td>0.950823</td>\n",
              "      <td>1.000000</td>\n",
              "      <td>0.897257</td>\n",
              "      <td>0.932994</td>\n",
              "      <td>-0.543800</td>\n",
              "    </tr>\n",
              "    <tr>\n",
              "      <th>horsepower</th>\n",
              "      <td>-0.778427</td>\n",
              "      <td>0.842983</td>\n",
              "      <td>0.897257</td>\n",
              "      <td>1.000000</td>\n",
              "      <td>0.864538</td>\n",
              "      <td>-0.689196</td>\n",
              "    </tr>\n",
              "    <tr>\n",
              "      <th>weight</th>\n",
              "      <td>-0.832244</td>\n",
              "      <td>0.897527</td>\n",
              "      <td>0.932994</td>\n",
              "      <td>0.864538</td>\n",
              "      <td>1.000000</td>\n",
              "      <td>-0.416839</td>\n",
              "    </tr>\n",
              "    <tr>\n",
              "      <th>acceleration</th>\n",
              "      <td>0.423329</td>\n",
              "      <td>-0.504683</td>\n",
              "      <td>-0.543800</td>\n",
              "      <td>-0.689196</td>\n",
              "      <td>-0.416839</td>\n",
              "      <td>1.000000</td>\n",
              "    </tr>\n",
              "  </tbody>\n",
              "</table>\n",
              "</div>"
            ],
            "text/plain": [
              "                   mpg  cylinders  ...    weight  acceleration\n",
              "mpg           1.000000  -0.777618  ... -0.832244      0.423329\n",
              "cylinders    -0.777618   1.000000  ...  0.897527     -0.504683\n",
              "displacement -0.805127   0.950823  ...  0.932994     -0.543800\n",
              "horsepower   -0.778427   0.842983  ...  0.864538     -0.689196\n",
              "weight       -0.832244   0.897527  ...  1.000000     -0.416839\n",
              "acceleration  0.423329  -0.504683  ... -0.416839      1.000000\n",
              "\n",
              "[6 rows x 6 columns]"
            ]
          },
          "metadata": {
            "tags": []
          },
          "execution_count": 19
        }
      ]
    },
    {
      "cell_type": "code",
      "metadata": {
        "id": "YAA2dxlx9IMQ",
        "colab": {
          "base_uri": "https://localhost:8080/",
          "height": 269
        },
        "outputId": "8084aef2-8c0c-4c9f-b418-990d4a9fb1d9"
      },
      "source": [
        "# ранговая корреляция Спирмена - добавляем пременную model_year имея ввиду, что это порядковая дискретная величина\n",
        "cars[['mpg', 'cylinders', 'displacement', 'horsepower','weight', 'acceleration', 'model_year']].corr(method='spearman') "
      ],
      "execution_count": null,
      "outputs": [
        {
          "output_type": "execute_result",
          "data": {
            "text/html": [
              "<div>\n",
              "<style scoped>\n",
              "    .dataframe tbody tr th:only-of-type {\n",
              "        vertical-align: middle;\n",
              "    }\n",
              "\n",
              "    .dataframe tbody tr th {\n",
              "        vertical-align: top;\n",
              "    }\n",
              "\n",
              "    .dataframe thead th {\n",
              "        text-align: right;\n",
              "    }\n",
              "</style>\n",
              "<table border=\"1\" class=\"dataframe\">\n",
              "  <thead>\n",
              "    <tr style=\"text-align: right;\">\n",
              "      <th></th>\n",
              "      <th>mpg</th>\n",
              "      <th>cylinders</th>\n",
              "      <th>displacement</th>\n",
              "      <th>horsepower</th>\n",
              "      <th>weight</th>\n",
              "      <th>acceleration</th>\n",
              "      <th>model_year</th>\n",
              "    </tr>\n",
              "  </thead>\n",
              "  <tbody>\n",
              "    <tr>\n",
              "      <th>mpg</th>\n",
              "      <td>1.000000</td>\n",
              "      <td>-0.823175</td>\n",
              "      <td>-0.855234</td>\n",
              "      <td>-0.853616</td>\n",
              "      <td>-0.875585</td>\n",
              "      <td>0.441539</td>\n",
              "      <td>0.574841</td>\n",
              "    </tr>\n",
              "    <tr>\n",
              "      <th>cylinders</th>\n",
              "      <td>-0.823175</td>\n",
              "      <td>1.000000</td>\n",
              "      <td>0.913566</td>\n",
              "      <td>0.816188</td>\n",
              "      <td>0.875972</td>\n",
              "      <td>-0.476266</td>\n",
              "      <td>-0.331087</td>\n",
              "    </tr>\n",
              "    <tr>\n",
              "      <th>displacement</th>\n",
              "      <td>-0.855234</td>\n",
              "      <td>0.913566</td>\n",
              "      <td>1.000000</td>\n",
              "      <td>0.876171</td>\n",
              "      <td>0.945630</td>\n",
              "      <td>-0.499403</td>\n",
              "      <td>-0.306582</td>\n",
              "    </tr>\n",
              "    <tr>\n",
              "      <th>horsepower</th>\n",
              "      <td>-0.853616</td>\n",
              "      <td>0.816188</td>\n",
              "      <td>0.876171</td>\n",
              "      <td>1.000000</td>\n",
              "      <td>0.878819</td>\n",
              "      <td>-0.658142</td>\n",
              "      <td>-0.389498</td>\n",
              "    </tr>\n",
              "    <tr>\n",
              "      <th>weight</th>\n",
              "      <td>-0.875585</td>\n",
              "      <td>0.875972</td>\n",
              "      <td>0.945630</td>\n",
              "      <td>0.878819</td>\n",
              "      <td>1.000000</td>\n",
              "      <td>-0.405109</td>\n",
              "      <td>-0.280981</td>\n",
              "    </tr>\n",
              "    <tr>\n",
              "      <th>acceleration</th>\n",
              "      <td>0.441539</td>\n",
              "      <td>-0.476266</td>\n",
              "      <td>-0.499403</td>\n",
              "      <td>-0.658142</td>\n",
              "      <td>-0.405109</td>\n",
              "      <td>1.000000</td>\n",
              "      <td>0.278306</td>\n",
              "    </tr>\n",
              "    <tr>\n",
              "      <th>model_year</th>\n",
              "      <td>0.574841</td>\n",
              "      <td>-0.331087</td>\n",
              "      <td>-0.306582</td>\n",
              "      <td>-0.389498</td>\n",
              "      <td>-0.280981</td>\n",
              "      <td>0.278306</td>\n",
              "      <td>1.000000</td>\n",
              "    </tr>\n",
              "  </tbody>\n",
              "</table>\n",
              "</div>"
            ],
            "text/plain": [
              "                   mpg  cylinders  ...  acceleration  model_year\n",
              "mpg           1.000000  -0.823175  ...      0.441539    0.574841\n",
              "cylinders    -0.823175   1.000000  ...     -0.476266   -0.331087\n",
              "displacement -0.855234   0.913566  ...     -0.499403   -0.306582\n",
              "horsepower   -0.853616   0.816188  ...     -0.658142   -0.389498\n",
              "weight       -0.875585   0.875972  ...     -0.405109   -0.280981\n",
              "acceleration  0.441539  -0.476266  ...      1.000000    0.278306\n",
              "model_year    0.574841  -0.331087  ...      0.278306    1.000000\n",
              "\n",
              "[7 rows x 7 columns]"
            ]
          },
          "metadata": {
            "tags": []
          },
          "execution_count": 20
        }
      ]
    },
    {
      "cell_type": "code",
      "metadata": {
        "id": "lEND_FhQ9IMQ",
        "colab": {
          "base_uri": "https://localhost:8080/",
          "height": 327
        },
        "outputId": "7eac76c3-15dc-4593-fb2e-aff2ee287e02"
      },
      "source": [
        "# визуализация матрицы корреляции (по методу Пирсона)\n",
        "num = ['mpg', 'cylinders', 'displacement', 'horsepower','weight', 'acceleration', 'model_year']\n",
        "hm = sns.heatmap(cars[num].corr(),annot=True)"
      ],
      "execution_count": null,
      "outputs": [
        {
          "output_type": "display_data",
          "data": {
            "image/png": "[encoded data removed]",
            "text/plain": [
              "<Figure size 432x288 with 2 Axes>"
            ]
          },
          "metadata": {
            "tags": [],
            "needs_background": "light"
          }
        }
      ]
    },
    {
      "cell_type": "code",
      "metadata": {
        "id": "tly4mzGL9IMR",
        "colab": {
          "base_uri": "https://localhost:8080/",
          "height": 327
        },
        "outputId": "1522130f-6d83-4527-b35b-d7c6a6aa6f8a"
      },
      "source": [
        "# визуализация матрицы корреляции (по методу Спирмена)\n",
        "ran = ['mpg', 'cylinders', 'displacement', 'horsepower','weight', 'acceleration', 'model_year']\n",
        "hm = sns.heatmap(cars[ran].corr(method = 'spearman'), annot=True)"
      ],
      "execution_count": null,
      "outputs": [
        {
          "output_type": "display_data",
          "data": {
            "image/png": "[encoded data removed]",
            "text/plain": [
              "<Figure size 432x288 with 2 Axes>"
            ]
          },
          "metadata": {
            "tags": [],
            "needs_background": "light"
          }
        }
      ]
    },
    {
      "cell_type": "markdown",
      "metadata": {
        "id": "MXP5I5iyqtWc"
      },
      "source": [
        "Наглядно видно, что корреляция факторов как положительная, так и отрицательная. Возможно это вызвано природой нашей целевой переменной mpg. Попробуем посчитать корреляцию для обратной величины gpm (gallon per miles).\n",
        " gpm = 1 / mpg."
      ]
    },
    {
      "cell_type": "code",
      "metadata": {
        "id": "GlTYTNWNiMep"
      },
      "source": [
        "cars1 = cars.assign(gpm = 1 / cars.mpg) #  создаем новый датафрем с колонкой gpm \n"
      ],
      "execution_count": null,
      "outputs": []
    },
    {
      "cell_type": "code",
      "metadata": {
        "colab": {
          "base_uri": "https://localhost:8080/",
          "height": 135
        },
        "id": "pGey23Oep100",
        "outputId": "53e9f3a7-eafc-4a55-c4f0-38844ba4404c"
      },
      "source": [
        "cars1.head(1)"
      ],
      "execution_count": null,
      "outputs": [
        {
          "output_type": "execute_result",
          "data": {
            "text/html": [
              "<div>\n",
              "<style scoped>\n",
              "    .dataframe tbody tr th:only-of-type {\n",
              "        vertical-align: middle;\n",
              "    }\n",
              "\n",
              "    .dataframe tbody tr th {\n",
              "        vertical-align: top;\n",
              "    }\n",
              "\n",
              "    .dataframe thead th {\n",
              "        text-align: right;\n",
              "    }\n",
              "</style>\n",
              "<table border=\"1\" class=\"dataframe\">\n",
              "  <thead>\n",
              "    <tr style=\"text-align: right;\">\n",
              "      <th></th>\n",
              "      <th>mpg</th>\n",
              "      <th>cylinders</th>\n",
              "      <th>displacement</th>\n",
              "      <th>horsepower</th>\n",
              "      <th>weight</th>\n",
              "      <th>acceleration</th>\n",
              "      <th>model_year</th>\n",
              "      <th>origin</th>\n",
              "      <th>car_name</th>\n",
              "      <th>gpm</th>\n",
              "    </tr>\n",
              "  </thead>\n",
              "  <tbody>\n",
              "    <tr>\n",
              "      <th>0</th>\n",
              "      <td>18.0</td>\n",
              "      <td>8</td>\n",
              "      <td>307.0</td>\n",
              "      <td>130.0</td>\n",
              "      <td>3504.0</td>\n",
              "      <td>12.0</td>\n",
              "      <td>70</td>\n",
              "      <td>1</td>\n",
              "      <td>chevrolet chevelle malibu</td>\n",
              "      <td>0.055556</td>\n",
              "    </tr>\n",
              "  </tbody>\n",
              "</table>\n",
              "</div>"
            ],
            "text/plain": [
              "    mpg  cylinders  displacement  ...  origin                   car_name       gpm\n",
              "0  18.0          8         307.0  ...       1  chevrolet chevelle malibu  0.055556\n",
              "\n",
              "[1 rows x 10 columns]"
            ]
          },
          "metadata": {
            "tags": []
          },
          "execution_count": 24
        }
      ]
    },
    {
      "cell_type": "code",
      "metadata": {
        "colab": {
          "base_uri": "https://localhost:8080/",
          "height": 269
        },
        "id": "55lkdtmhoIIO",
        "outputId": "d5e41a3e-22ba-4f7d-f040-3df34af67c85"
      },
      "source": [
        "# ранговая корреляция Спирмена\n",
        "cars1[['gpm', 'cylinders', 'displacement', 'horsepower','weight', 'acceleration', 'model_year']].corr(method='spearman') "
      ],
      "execution_count": null,
      "outputs": [
        {
          "output_type": "execute_result",
          "data": {
            "text/html": [
              "<div>\n",
              "<style scoped>\n",
              "    .dataframe tbody tr th:only-of-type {\n",
              "        vertical-align: middle;\n",
              "    }\n",
              "\n",
              "    .dataframe tbody tr th {\n",
              "        vertical-align: top;\n",
              "    }\n",
              "\n",
              "    .dataframe thead th {\n",
              "        text-align: right;\n",
              "    }\n",
              "</style>\n",
              "<table border=\"1\" class=\"dataframe\">\n",
              "  <thead>\n",
              "    <tr style=\"text-align: right;\">\n",
              "      <th></th>\n",
              "      <th>gpm</th>\n",
              "      <th>cylinders</th>\n",
              "      <th>displacement</th>\n",
              "      <th>horsepower</th>\n",
              "      <th>weight</th>\n",
              "      <th>acceleration</th>\n",
              "      <th>model_year</th>\n",
              "    </tr>\n",
              "  </thead>\n",
              "  <tbody>\n",
              "    <tr>\n",
              "      <th>gpm</th>\n",
              "      <td>1.000000</td>\n",
              "      <td>0.823175</td>\n",
              "      <td>0.855234</td>\n",
              "      <td>0.853616</td>\n",
              "      <td>0.875585</td>\n",
              "      <td>-0.441539</td>\n",
              "      <td>-0.574841</td>\n",
              "    </tr>\n",
              "    <tr>\n",
              "      <th>cylinders</th>\n",
              "      <td>0.823175</td>\n",
              "      <td>1.000000</td>\n",
              "      <td>0.913566</td>\n",
              "      <td>0.816188</td>\n",
              "      <td>0.875972</td>\n",
              "      <td>-0.476266</td>\n",
              "      <td>-0.331087</td>\n",
              "    </tr>\n",
              "    <tr>\n",
              "      <th>displacement</th>\n",
              "      <td>0.855234</td>\n",
              "      <td>0.913566</td>\n",
              "      <td>1.000000</td>\n",
              "      <td>0.876171</td>\n",
              "      <td>0.945630</td>\n",
              "      <td>-0.499403</td>\n",
              "      <td>-0.306582</td>\n",
              "    </tr>\n",
              "    <tr>\n",
              "      <th>horsepower</th>\n",
              "      <td>0.853616</td>\n",
              "      <td>0.816188</td>\n",
              "      <td>0.876171</td>\n",
              "      <td>1.000000</td>\n",
              "      <td>0.878819</td>\n",
              "      <td>-0.658142</td>\n",
              "      <td>-0.389498</td>\n",
              "    </tr>\n",
              "    <tr>\n",
              "      <th>weight</th>\n",
              "      <td>0.875585</td>\n",
              "      <td>0.875972</td>\n",
              "      <td>0.945630</td>\n",
              "      <td>0.878819</td>\n",
              "      <td>1.000000</td>\n",
              "      <td>-0.405109</td>\n",
              "      <td>-0.280981</td>\n",
              "    </tr>\n",
              "    <tr>\n",
              "      <th>acceleration</th>\n",
              "      <td>-0.441539</td>\n",
              "      <td>-0.476266</td>\n",
              "      <td>-0.499403</td>\n",
              "      <td>-0.658142</td>\n",
              "      <td>-0.405109</td>\n",
              "      <td>1.000000</td>\n",
              "      <td>0.278306</td>\n",
              "    </tr>\n",
              "    <tr>\n",
              "      <th>model_year</th>\n",
              "      <td>-0.574841</td>\n",
              "      <td>-0.331087</td>\n",
              "      <td>-0.306582</td>\n",
              "      <td>-0.389498</td>\n",
              "      <td>-0.280981</td>\n",
              "      <td>0.278306</td>\n",
              "      <td>1.000000</td>\n",
              "    </tr>\n",
              "  </tbody>\n",
              "</table>\n",
              "</div>"
            ],
            "text/plain": [
              "                   gpm  cylinders  ...  acceleration  model_year\n",
              "gpm           1.000000   0.823175  ...     -0.441539   -0.574841\n",
              "cylinders     0.823175   1.000000  ...     -0.476266   -0.331087\n",
              "displacement  0.855234   0.913566  ...     -0.499403   -0.306582\n",
              "horsepower    0.853616   0.816188  ...     -0.658142   -0.389498\n",
              "weight        0.875585   0.875972  ...     -0.405109   -0.280981\n",
              "acceleration -0.441539  -0.476266  ...      1.000000    0.278306\n",
              "model_year   -0.574841  -0.331087  ...      0.278306    1.000000\n",
              "\n",
              "[7 rows x 7 columns]"
            ]
          },
          "metadata": {
            "tags": []
          },
          "execution_count": 25
        }
      ]
    },
    {
      "cell_type": "code",
      "metadata": {
        "colab": {
          "base_uri": "https://localhost:8080/",
          "height": 327
        },
        "id": "N_5sssrRqSCD",
        "outputId": "ec2ceb7f-e72e-494a-ee08-ec9f228cef3f"
      },
      "source": [
        "# визуализация матрицы корреляции (по методу Спирмена)\n",
        "ran = ['gpm', 'cylinders', 'displacement', 'horsepower','weight', 'acceleration', 'model_year']\n",
        "hm = sns.heatmap(cars1[ran].corr(method = 'spearman'), annot=True)"
      ],
      "execution_count": null,
      "outputs": [
        {
          "output_type": "display_data",
          "data": {
            "image/png": "[encoded data removed]",
            "text/plain": [
              "<Figure size 432x288 with 2 Axes>"
            ]
          },
          "metadata": {
            "tags": [],
            "needs_background": "light"
          }
        }
      ]
    },
    {
      "cell_type": "markdown",
      "metadata": {
        "id": "BL19CvbdsvoP"
      },
      "source": [
        "Теперь просто бросается в глаза МУЛЬТИКОЛЛИНЕАРНОСТЬ факторов: 'cylinders', 'displacement', 'horsepower', 'weight'. Для дальнейшего анализа оставляем один из них: horsepower (мощность двигателя)"
      ]
    },
    {
      "cell_type": "markdown",
      "metadata": {
        "id": "lpghaiYR9IMT"
      },
      "source": [
        "## Анализ влияния категориальных признаков"
      ]
    },
    {
      "cell_type": "code",
      "metadata": {
        "colab": {
          "base_uri": "https://localhost:8080/",
          "height": 175
        },
        "id": "ReqQQodvwuP1",
        "outputId": "beffc557-97be-4006-f25b-1be84b85bc06"
      },
      "source": [
        "# среднее значение расхода топлива (галлон/миля) в зависимости от категориальной\n",
        "# величины origin (страна происхождения) 1 - USA 2 - Europe 3 - Japan\n",
        "\n",
        "cars1.groupby('origin')[['gpm']].mean()"
      ],
      "execution_count": null,
      "outputs": [
        {
          "output_type": "execute_result",
          "data": {
            "text/html": [
              "<div>\n",
              "<style scoped>\n",
              "    .dataframe tbody tr th:only-of-type {\n",
              "        vertical-align: middle;\n",
              "    }\n",
              "\n",
              "    .dataframe tbody tr th {\n",
              "        vertical-align: top;\n",
              "    }\n",
              "\n",
              "    .dataframe thead th {\n",
              "        text-align: right;\n",
              "    }\n",
              "</style>\n",
              "<table border=\"1\" class=\"dataframe\">\n",
              "  <thead>\n",
              "    <tr style=\"text-align: right;\">\n",
              "      <th></th>\n",
              "      <th>gpm</th>\n",
              "    </tr>\n",
              "    <tr>\n",
              "      <th>origin</th>\n",
              "      <th></th>\n",
              "    </tr>\n",
              "  </thead>\n",
              "  <tbody>\n",
              "    <tr>\n",
              "      <th>1</th>\n",
              "      <td>0.054855</td>\n",
              "    </tr>\n",
              "    <tr>\n",
              "      <th>2</th>\n",
              "      <td>0.038216</td>\n",
              "    </tr>\n",
              "    <tr>\n",
              "      <th>3</th>\n",
              "      <td>0.034280</td>\n",
              "    </tr>\n",
              "  </tbody>\n",
              "</table>\n",
              "</div>"
            ],
            "text/plain": [
              "             gpm\n",
              "origin          \n",
              "1       0.054855\n",
              "2       0.038216\n",
              "3       0.034280"
            ]
          },
          "metadata": {
            "tags": []
          },
          "execution_count": 27
        }
      ]
    },
    {
      "cell_type": "code",
      "metadata": {
        "id": "IFxnafzM9IMW",
        "colab": {
          "base_uri": "https://localhost:8080/",
          "height": 388
        },
        "outputId": "8bf80959-38be-4701-f1f2-75aa91edf5a0"
      },
      "source": [
        "f, ax = plt.subplots(figsize=(6, 6))\n",
        "fig = sns.boxplot(x='origin', y='gpm', data=cars1)"
      ],
      "execution_count": null,
      "outputs": [
        {
          "output_type": "display_data",
          "data": {
            "image/png": "[encoded data removed]",
            "text/plain": [
              "<Figure size 432x432 with 1 Axes>"
            ]
          },
          "metadata": {
            "tags": [],
            "needs_background": "light"
          }
        }
      ]
    },
    {
      "cell_type": "markdown",
      "metadata": {
        "id": "n2QgQk8IzjO5"
      },
      "source": [
        "Очевидно, что машины из США имеют гораздо больший расход топлива, чем автомобили из Европы и Японии. Страна происхождения очевидно является значимым фактором, влияющим на целевую переменную (для полной уверенности можно провести сравнение по критерию Краско-Уоллиса)"
      ]
    },
    {
      "cell_type": "markdown",
      "metadata": {
        "id": "qJ6Y2okVV3Qi"
      },
      "source": [
        "# Выполнение задания. Часть 2 - Регрессионный анализ\n"
      ]
    },
    {
      "cell_type": "markdown",
      "metadata": {
        "id": "jpBS-WN69EKc"
      },
      "source": [
        "1. Построение классической регрессионной модели традиционным статистическим подходом"
      ]
    },
    {
      "cell_type": "code",
      "metadata": {
        "id": "PsZtewW59IMa",
        "colab": {
          "base_uri": "https://localhost:8080/"
        },
        "outputId": "e335c217-8b65-4183-c464-704edc076a19"
      },
      "source": [
        "import statsmodels.api as sm\n",
        "import statsmodels.formula.api as smf"
      ],
      "execution_count": null,
      "outputs": [
        {
          "output_type": "stream",
          "text": [
            "/usr/local/lib/python3.7/dist-packages/statsmodels/tools/_testing.py:19: FutureWarning: pandas.util.testing is deprecated. Use the functions in the public API at pandas.testing instead.\n",
            "  import pandas.util.testing as tm\n"
          ],
          "name": "stderr"
        }
      ]
    },
    {
      "cell_type": "code",
      "metadata": {
        "colab": {
          "base_uri": "https://localhost:8080/",
          "height": 537
        },
        "id": "p24J-7eg0AFM",
        "outputId": "433f9349-4eac-41ac-9898-6a07cbec3e95"
      },
      "source": [
        "cars1 # датасет с обратной целевой переменной gpm = 1 / mpg (последний столбец)"
      ],
      "execution_count": null,
      "outputs": [
        {
          "output_type": "execute_result",
          "data": {
            "text/html": [
              "<div>\n",
              "<style scoped>\n",
              "    .dataframe tbody tr th:only-of-type {\n",
              "        vertical-align: middle;\n",
              "    }\n",
              "\n",
              "    .dataframe tbody tr th {\n",
              "        vertical-align: top;\n",
              "    }\n",
              "\n",
              "    .dataframe thead th {\n",
              "        text-align: right;\n",
              "    }\n",
              "</style>\n",
              "<table border=\"1\" class=\"dataframe\">\n",
              "  <thead>\n",
              "    <tr style=\"text-align: right;\">\n",
              "      <th></th>\n",
              "      <th>mpg</th>\n",
              "      <th>cylinders</th>\n",
              "      <th>displacement</th>\n",
              "      <th>horsepower</th>\n",
              "      <th>weight</th>\n",
              "      <th>acceleration</th>\n",
              "      <th>model_year</th>\n",
              "      <th>origin</th>\n",
              "      <th>car_name</th>\n",
              "      <th>gpm</th>\n",
              "    </tr>\n",
              "  </thead>\n",
              "  <tbody>\n",
              "    <tr>\n",
              "      <th>0</th>\n",
              "      <td>18.0</td>\n",
              "      <td>8</td>\n",
              "      <td>307.0</td>\n",
              "      <td>130.0</td>\n",
              "      <td>3504.0</td>\n",
              "      <td>12.0</td>\n",
              "      <td>70</td>\n",
              "      <td>1</td>\n",
              "      <td>chevrolet chevelle malibu</td>\n",
              "      <td>0.055556</td>\n",
              "    </tr>\n",
              "    <tr>\n",
              "      <th>1</th>\n",
              "      <td>15.0</td>\n",
              "      <td>8</td>\n",
              "      <td>350.0</td>\n",
              "      <td>165.0</td>\n",
              "      <td>3693.0</td>\n",
              "      <td>11.5</td>\n",
              "      <td>70</td>\n",
              "      <td>1</td>\n",
              "      <td>buick skylark 320</td>\n",
              "      <td>0.066667</td>\n",
              "    </tr>\n",
              "    <tr>\n",
              "      <th>2</th>\n",
              "      <td>18.0</td>\n",
              "      <td>8</td>\n",
              "      <td>318.0</td>\n",
              "      <td>150.0</td>\n",
              "      <td>3436.0</td>\n",
              "      <td>11.0</td>\n",
              "      <td>70</td>\n",
              "      <td>1</td>\n",
              "      <td>plymouth satellite</td>\n",
              "      <td>0.055556</td>\n",
              "    </tr>\n",
              "    <tr>\n",
              "      <th>3</th>\n",
              "      <td>16.0</td>\n",
              "      <td>8</td>\n",
              "      <td>304.0</td>\n",
              "      <td>150.0</td>\n",
              "      <td>3433.0</td>\n",
              "      <td>12.0</td>\n",
              "      <td>70</td>\n",
              "      <td>1</td>\n",
              "      <td>amc rebel sst</td>\n",
              "      <td>0.062500</td>\n",
              "    </tr>\n",
              "    <tr>\n",
              "      <th>...</th>\n",
              "      <td>...</td>\n",
              "      <td>...</td>\n",
              "      <td>...</td>\n",
              "      <td>...</td>\n",
              "      <td>...</td>\n",
              "      <td>...</td>\n",
              "      <td>...</td>\n",
              "      <td>...</td>\n",
              "      <td>...</td>\n",
              "      <td>...</td>\n",
              "    </tr>\n",
              "    <tr>\n",
              "      <th>394</th>\n",
              "      <td>44.0</td>\n",
              "      <td>4</td>\n",
              "      <td>97.0</td>\n",
              "      <td>52.0</td>\n",
              "      <td>2130.0</td>\n",
              "      <td>24.6</td>\n",
              "      <td>82</td>\n",
              "      <td>2</td>\n",
              "      <td>vw pickup</td>\n",
              "      <td>0.022727</td>\n",
              "    </tr>\n",
              "    <tr>\n",
              "      <th>395</th>\n",
              "      <td>32.0</td>\n",
              "      <td>4</td>\n",
              "      <td>135.0</td>\n",
              "      <td>84.0</td>\n",
              "      <td>2295.0</td>\n",
              "      <td>11.6</td>\n",
              "      <td>82</td>\n",
              "      <td>1</td>\n",
              "      <td>dodge rampage</td>\n",
              "      <td>0.031250</td>\n",
              "    </tr>\n",
              "    <tr>\n",
              "      <th>396</th>\n",
              "      <td>28.0</td>\n",
              "      <td>4</td>\n",
              "      <td>120.0</td>\n",
              "      <td>79.0</td>\n",
              "      <td>2625.0</td>\n",
              "      <td>18.6</td>\n",
              "      <td>82</td>\n",
              "      <td>1</td>\n",
              "      <td>ford ranger</td>\n",
              "      <td>0.035714</td>\n",
              "    </tr>\n",
              "    <tr>\n",
              "      <th>397</th>\n",
              "      <td>31.0</td>\n",
              "      <td>4</td>\n",
              "      <td>119.0</td>\n",
              "      <td>82.0</td>\n",
              "      <td>2720.0</td>\n",
              "      <td>19.4</td>\n",
              "      <td>82</td>\n",
              "      <td>1</td>\n",
              "      <td>chevy s-10</td>\n",
              "      <td>0.032258</td>\n",
              "    </tr>\n",
              "  </tbody>\n",
              "</table>\n",
              "<p>392 rows × 10 columns</p>\n",
              "</div>"
            ],
            "text/plain": [
              "      mpg  cylinders  displacement  ...  origin                   car_name       gpm\n",
              "0    18.0          8         307.0  ...       1  chevrolet chevelle malibu  0.055556\n",
              "1    15.0          8         350.0  ...       1          buick skylark 320  0.066667\n",
              "2    18.0          8         318.0  ...       1         plymouth satellite  0.055556\n",
              "3    16.0          8         304.0  ...       1              amc rebel sst  0.062500\n",
              "..    ...        ...           ...  ...     ...                        ...       ...\n",
              "394  44.0          4          97.0  ...       2                  vw pickup  0.022727\n",
              "395  32.0          4         135.0  ...       1              dodge rampage  0.031250\n",
              "396  28.0          4         120.0  ...       1                ford ranger  0.035714\n",
              "397  31.0          4         119.0  ...       1                 chevy s-10  0.032258\n",
              "\n",
              "[392 rows x 10 columns]"
            ]
          },
          "metadata": {
            "tags": []
          },
          "execution_count": 30
        }
      ]
    },
    {
      "cell_type": "code",
      "metadata": {
        "id": "_m1uH-Ud9IMc",
        "colab": {
          "base_uri": "https://localhost:8080/",
          "height": 593
        },
        "outputId": "e97af88f-c174-4c57-b665-01acf02e6733"
      },
      "source": [
        "# оцениваем признаки для включения в регрессионную модель\n",
        "resultsm = smf.ols(\n",
        "    'gpm ~ cylinders + displacement + horsepower + weight + acceleration + model_year',\n",
        "     data=cars1).fit()\n",
        "resultsm.summary()"
      ],
      "execution_count": null,
      "outputs": [
        {
          "output_type": "execute_result",
          "data": {
            "text/html": [
              "<table class=\"simpletable\">\n",
              "<caption>OLS Regression Results</caption>\n",
              "<tr>\n",
              "  <th>Dep. Variable:</th>           <td>gpm</td>       <th>  R-squared:         </th> <td>   0.884</td> \n",
              "</tr>\n",
              "<tr>\n",
              "  <th>Model:</th>                   <td>OLS</td>       <th>  Adj. R-squared:    </th> <td>   0.882</td> \n",
              "</tr>\n",
              "<tr>\n",
              "  <th>Method:</th>             <td>Least Squares</td>  <th>  F-statistic:       </th> <td>   488.5</td> \n",
              "</tr>\n",
              "<tr>\n",
              "  <th>Date:</th>             <td>Sat, 31 Jul 2021</td> <th>  Prob (F-statistic):</th> <td>1.42e-176</td>\n",
              "</tr>\n",
              "<tr>\n",
              "  <th>Time:</th>                 <td>05:21:58</td>     <th>  Log-Likelihood:    </th> <td>  1471.9</td> \n",
              "</tr>\n",
              "<tr>\n",
              "  <th>No. Observations:</th>      <td>   392</td>      <th>  AIC:               </th> <td>  -2930.</td> \n",
              "</tr>\n",
              "<tr>\n",
              "  <th>Df Residuals:</th>          <td>   385</td>      <th>  BIC:               </th> <td>  -2902.</td> \n",
              "</tr>\n",
              "<tr>\n",
              "  <th>Df Model:</th>              <td>     6</td>      <th>                     </th>     <td> </td>    \n",
              "</tr>\n",
              "<tr>\n",
              "  <th>Covariance Type:</th>      <td>nonrobust</td>    <th>                     </th>     <td> </td>    \n",
              "</tr>\n",
              "</table>\n",
              "<table class=\"simpletable\">\n",
              "<tr>\n",
              "        <td></td>          <th>coef</th>     <th>std err</th>      <th>t</th>      <th>P>|t|</th>  <th>[0.025</th>    <th>0.975]</th>  \n",
              "</tr>\n",
              "<tr>\n",
              "  <th>Intercept</th>    <td>    0.0895</td> <td>    0.008</td> <td>   11.299</td> <td> 0.000</td> <td>    0.074</td> <td>    0.105</td>\n",
              "</tr>\n",
              "<tr>\n",
              "  <th>cylinders</th>    <td>    0.0014</td> <td>    0.001</td> <td>    2.520</td> <td> 0.012</td> <td>    0.000</td> <td>    0.002</td>\n",
              "</tr>\n",
              "<tr>\n",
              "  <th>displacement</th> <td>-1.703e-05</td> <td> 1.22e-05</td> <td>   -1.391</td> <td> 0.165</td> <td>-4.11e-05</td> <td> 7.03e-06</td>\n",
              "</tr>\n",
              "<tr>\n",
              "  <th>horsepower</th>   <td>    0.0001</td> <td>  2.3e-05</td> <td>    4.943</td> <td> 0.000</td> <td> 6.85e-05</td> <td>    0.000</td>\n",
              "</tr>\n",
              "<tr>\n",
              "  <th>weight</th>       <td> 1.109e-05</td> <td> 1.11e-06</td> <td>    9.952</td> <td> 0.000</td> <td>  8.9e-06</td> <td> 1.33e-05</td>\n",
              "</tr>\n",
              "<tr>\n",
              "  <th>acceleration</th> <td>    0.0003</td> <td>    0.000</td> <td>    1.996</td> <td> 0.047</td> <td> 5.12e-06</td> <td>    0.001</td>\n",
              "</tr>\n",
              "<tr>\n",
              "  <th>model_year</th>   <td>   -0.0013</td> <td> 8.75e-05</td> <td>  -14.465</td> <td> 0.000</td> <td>   -0.001</td> <td>   -0.001</td>\n",
              "</tr>\n",
              "</table>\n",
              "<table class=\"simpletable\">\n",
              "<tr>\n",
              "  <th>Omnibus:</th>       <td>47.189</td> <th>  Durbin-Watson:     </th> <td>   1.463</td>\n",
              "</tr>\n",
              "<tr>\n",
              "  <th>Prob(Omnibus):</th> <td> 0.000</td> <th>  Jarque-Bera (JB):  </th> <td> 103.690</td>\n",
              "</tr>\n",
              "<tr>\n",
              "  <th>Skew:</th>          <td> 0.639</td> <th>  Prob(JB):          </th> <td>3.05e-23</td>\n",
              "</tr>\n",
              "<tr>\n",
              "  <th>Kurtosis:</th>      <td> 5.171</td> <th>  Cond. No.          </th> <td>8.53e+04</td>\n",
              "</tr>\n",
              "</table><br/><br/>Warnings:<br/>[1] Standard Errors assume that the covariance matrix of the errors is correctly specified.<br/>[2] The condition number is large, 8.53e+04. This might indicate that there are<br/>strong multicollinearity or other numerical problems."
            ],
            "text/plain": [
              "<class 'statsmodels.iolib.summary.Summary'>\n",
              "\"\"\"\n",
              "                            OLS Regression Results                            \n",
              "==============================================================================\n",
              "Dep. Variable:                    gpm   R-squared:                       0.884\n",
              "Model:                            OLS   Adj. R-squared:                  0.882\n",
              "Method:                 Least Squares   F-statistic:                     488.5\n",
              "Date:                Sat, 31 Jul 2021   Prob (F-statistic):          1.42e-176\n",
              "Time:                        05:21:58   Log-Likelihood:                 1471.9\n",
              "No. Observations:                 392   AIC:                            -2930.\n",
              "Df Residuals:                     385   BIC:                            -2902.\n",
              "Df Model:                           6                                         \n",
              "Covariance Type:            nonrobust                                         \n",
              "================================================================================\n",
              "                   coef    std err          t      P>|t|      [0.025      0.975]\n",
              "--------------------------------------------------------------------------------\n",
              "Intercept        0.0895      0.008     11.299      0.000       0.074       0.105\n",
              "cylinders        0.0014      0.001      2.520      0.012       0.000       0.002\n",
              "displacement -1.703e-05   1.22e-05     -1.391      0.165   -4.11e-05    7.03e-06\n",
              "horsepower       0.0001    2.3e-05      4.943      0.000    6.85e-05       0.000\n",
              "weight        1.109e-05   1.11e-06      9.952      0.000     8.9e-06    1.33e-05\n",
              "acceleration     0.0003      0.000      1.996      0.047    5.12e-06       0.001\n",
              "model_year      -0.0013   8.75e-05    -14.465      0.000      -0.001      -0.001\n",
              "==============================================================================\n",
              "Omnibus:                       47.189   Durbin-Watson:                   1.463\n",
              "Prob(Omnibus):                  0.000   Jarque-Bera (JB):              103.690\n",
              "Skew:                           0.639   Prob(JB):                     3.05e-23\n",
              "Kurtosis:                       5.171   Cond. No.                     8.53e+04\n",
              "==============================================================================\n",
              "\n",
              "Warnings:\n",
              "[1] Standard Errors assume that the covariance matrix of the errors is correctly specified.\n",
              "[2] The condition number is large, 8.53e+04. This might indicate that there are\n",
              "strong multicollinearity or other numerical problems.\n",
              "\"\"\""
            ]
          },
          "metadata": {
            "tags": []
          },
          "execution_count": 31
        }
      ]
    },
    {
      "cell_type": "markdown",
      "metadata": {
        "id": "xcvZmjN_v5rc"
      },
      "source": [
        "Комментарий: Из таблицы видим, что все факторы значимые (p-value < 0.05), но присутствует МУЛЬТИКОЛЛИНЕАРНОСТЬ факторов. В таком факторе, как мощность двигателя уже учтены и число цилиндров, и объем двигателя, а также вес автомобиля и его динамика (разгон). Эти факторы можно исключить из модели. Остается под вопросом год выпуска. Попробуем построить анализ, оставив величины horsepower и model_year: "
      ]
    },
    {
      "cell_type": "code",
      "metadata": {
        "colab": {
          "base_uri": "https://localhost:8080/",
          "height": 507
        },
        "id": "3QaY9SRDt7Yg",
        "outputId": "09fb5cc6-e74e-4a9f-b31a-8de057e8c3bb"
      },
      "source": [
        "resultsm = smf.ols(\n",
        "    'gpm ~ horsepower + model_year ',\n",
        "     data=cars1).fit()\n",
        "resultsm.summary()"
      ],
      "execution_count": null,
      "outputs": [
        {
          "output_type": "execute_result",
          "data": {
            "text/html": [
              "<table class=\"simpletable\">\n",
              "<caption>OLS Regression Results</caption>\n",
              "<tr>\n",
              "  <th>Dep. Variable:</th>           <td>gpm</td>       <th>  R-squared:         </th> <td>   0.780</td> \n",
              "</tr>\n",
              "<tr>\n",
              "  <th>Model:</th>                   <td>OLS</td>       <th>  Adj. R-squared:    </th> <td>   0.779</td> \n",
              "</tr>\n",
              "<tr>\n",
              "  <th>Method:</th>             <td>Least Squares</td>  <th>  F-statistic:       </th> <td>   690.5</td> \n",
              "</tr>\n",
              "<tr>\n",
              "  <th>Date:</th>             <td>Sat, 31 Jul 2021</td> <th>  Prob (F-statistic):</th> <td>1.03e-128</td>\n",
              "</tr>\n",
              "<tr>\n",
              "  <th>Time:</th>                 <td>05:22:15</td>     <th>  Log-Likelihood:    </th> <td>  1346.9</td> \n",
              "</tr>\n",
              "<tr>\n",
              "  <th>No. Observations:</th>      <td>   392</td>      <th>  AIC:               </th> <td>  -2688.</td> \n",
              "</tr>\n",
              "<tr>\n",
              "  <th>Df Residuals:</th>          <td>   389</td>      <th>  BIC:               </th> <td>  -2676.</td> \n",
              "</tr>\n",
              "<tr>\n",
              "  <th>Df Model:</th>              <td>     2</td>      <th>                     </th>     <td> </td>    \n",
              "</tr>\n",
              "<tr>\n",
              "  <th>Covariance Type:</th>      <td>nonrobust</td>    <th>                     </th>     <td> </td>    \n",
              "</tr>\n",
              "</table>\n",
              "<table class=\"simpletable\">\n",
              "<tr>\n",
              "       <td></td>         <th>coef</th>     <th>std err</th>      <th>t</th>      <th>P>|t|</th>  <th>[0.025</th>    <th>0.975]</th>  \n",
              "</tr>\n",
              "<tr>\n",
              "  <th>Intercept</th>  <td>    0.0978</td> <td>    0.010</td> <td>   10.263</td> <td> 0.000</td> <td>    0.079</td> <td>    0.117</td>\n",
              "</tr>\n",
              "<tr>\n",
              "  <th>horsepower</th> <td>    0.0003</td> <td> 1.13e-05</td> <td>   28.799</td> <td> 0.000</td> <td>    0.000</td> <td>    0.000</td>\n",
              "</tr>\n",
              "<tr>\n",
              "  <th>model_year</th> <td>   -0.0011</td> <td>    0.000</td> <td>   -9.363</td> <td> 0.000</td> <td>   -0.001</td> <td>   -0.001</td>\n",
              "</tr>\n",
              "</table>\n",
              "<table class=\"simpletable\">\n",
              "<tr>\n",
              "  <th>Omnibus:</th>       <td>22.530</td> <th>  Durbin-Watson:     </th> <td>   1.212</td>\n",
              "</tr>\n",
              "<tr>\n",
              "  <th>Prob(Omnibus):</th> <td> 0.000</td> <th>  Jarque-Bera (JB):  </th> <td>  48.840</td>\n",
              "</tr>\n",
              "<tr>\n",
              "  <th>Skew:</th>          <td> 0.287</td> <th>  Prob(JB):          </th> <td>2.48e-11</td>\n",
              "</tr>\n",
              "<tr>\n",
              "  <th>Kurtosis:</th>      <td> 4.631</td> <th>  Cond. No.          </th> <td>3.20e+03</td>\n",
              "</tr>\n",
              "</table><br/><br/>Warnings:<br/>[1] Standard Errors assume that the covariance matrix of the errors is correctly specified.<br/>[2] The condition number is large, 3.2e+03. This might indicate that there are<br/>strong multicollinearity or other numerical problems."
            ],
            "text/plain": [
              "<class 'statsmodels.iolib.summary.Summary'>\n",
              "\"\"\"\n",
              "                            OLS Regression Results                            \n",
              "==============================================================================\n",
              "Dep. Variable:                    gpm   R-squared:                       0.780\n",
              "Model:                            OLS   Adj. R-squared:                  0.779\n",
              "Method:                 Least Squares   F-statistic:                     690.5\n",
              "Date:                Sat, 31 Jul 2021   Prob (F-statistic):          1.03e-128\n",
              "Time:                        05:22:15   Log-Likelihood:                 1346.9\n",
              "No. Observations:                 392   AIC:                            -2688.\n",
              "Df Residuals:                     389   BIC:                            -2676.\n",
              "Df Model:                           2                                         \n",
              "Covariance Type:            nonrobust                                         \n",
              "==============================================================================\n",
              "                 coef    std err          t      P>|t|      [0.025      0.975]\n",
              "------------------------------------------------------------------------------\n",
              "Intercept      0.0978      0.010     10.263      0.000       0.079       0.117\n",
              "horsepower     0.0003   1.13e-05     28.799      0.000       0.000       0.000\n",
              "model_year    -0.0011      0.000     -9.363      0.000      -0.001      -0.001\n",
              "==============================================================================\n",
              "Omnibus:                       22.530   Durbin-Watson:                   1.212\n",
              "Prob(Omnibus):                  0.000   Jarque-Bera (JB):               48.840\n",
              "Skew:                           0.287   Prob(JB):                     2.48e-11\n",
              "Kurtosis:                       4.631   Cond. No.                     3.20e+03\n",
              "==============================================================================\n",
              "\n",
              "Warnings:\n",
              "[1] Standard Errors assume that the covariance matrix of the errors is correctly specified.\n",
              "[2] The condition number is large, 3.2e+03. This might indicate that there are\n",
              "strong multicollinearity or other numerical problems.\n",
              "\"\"\""
            ]
          },
          "metadata": {
            "tags": []
          },
          "execution_count": 32
        }
      ]
    },
    {
      "cell_type": "markdown",
      "metadata": {
        "id": "IQWpaF_ry4oo"
      },
      "source": [
        "Мультиколлинеарность сохраняется, поэтому год выпуска тоже исключаем."
      ]
    },
    {
      "cell_type": "code",
      "metadata": {
        "colab": {
          "base_uri": "https://localhost:8080/",
          "height": 451
        },
        "id": "pCQoiQTJzYsZ",
        "outputId": "d852f9fa-53f8-4e56-9ba0-6bd2e62ffff0"
      },
      "source": [
        "resultsm = smf.ols(\n",
        "    'gpm ~ horsepower ',\n",
        "     data=cars1).fit()\n",
        "resultsm.summary()"
      ],
      "execution_count": null,
      "outputs": [
        {
          "output_type": "execute_result",
          "data": {
            "text/html": [
              "<table class=\"simpletable\">\n",
              "<caption>OLS Regression Results</caption>\n",
              "<tr>\n",
              "  <th>Dep. Variable:</th>           <td>gpm</td>       <th>  R-squared:         </th> <td>   0.731</td> \n",
              "</tr>\n",
              "<tr>\n",
              "  <th>Model:</th>                   <td>OLS</td>       <th>  Adj. R-squared:    </th> <td>   0.730</td> \n",
              "</tr>\n",
              "<tr>\n",
              "  <th>Method:</th>             <td>Least Squares</td>  <th>  F-statistic:       </th> <td>   1058.</td> \n",
              "</tr>\n",
              "<tr>\n",
              "  <th>Date:</th>             <td>Sat, 31 Jul 2021</td> <th>  Prob (F-statistic):</th> <td>3.72e-113</td>\n",
              "</tr>\n",
              "<tr>\n",
              "  <th>Time:</th>                 <td>05:22:22</td>     <th>  Log-Likelihood:    </th> <td>  1307.0</td> \n",
              "</tr>\n",
              "<tr>\n",
              "  <th>No. Observations:</th>      <td>   392</td>      <th>  AIC:               </th> <td>  -2610.</td> \n",
              "</tr>\n",
              "<tr>\n",
              "  <th>Df Residuals:</th>          <td>   390</td>      <th>  BIC:               </th> <td>  -2602.</td> \n",
              "</tr>\n",
              "<tr>\n",
              "  <th>Df Model:</th>              <td>     1</td>      <th>                     </th>     <td> </td>    \n",
              "</tr>\n",
              "<tr>\n",
              "  <th>Covariance Type:</th>      <td>nonrobust</td>    <th>                     </th>     <td> </td>    \n",
              "</tr>\n",
              "</table>\n",
              "<table class=\"simpletable\">\n",
              "<tr>\n",
              "       <td></td>         <th>coef</th>     <th>std err</th>      <th>t</th>      <th>P>|t|</th>  <th>[0.025</th>    <th>0.975]</th>  \n",
              "</tr>\n",
              "<tr>\n",
              "  <th>Intercept</th>  <td>    0.0092</td> <td>    0.001</td> <td>    7.290</td> <td> 0.000</td> <td>    0.007</td> <td>    0.012</td>\n",
              "</tr>\n",
              "<tr>\n",
              "  <th>horsepower</th> <td>    0.0004</td> <td> 1.14e-05</td> <td>   32.530</td> <td> 0.000</td> <td>    0.000</td> <td>    0.000</td>\n",
              "</tr>\n",
              "</table>\n",
              "<table class=\"simpletable\">\n",
              "<tr>\n",
              "  <th>Omnibus:</th>       <td>15.796</td> <th>  Durbin-Watson:     </th> <td>   1.083</td>\n",
              "</tr>\n",
              "<tr>\n",
              "  <th>Prob(Omnibus):</th> <td> 0.000</td> <th>  Jarque-Bera (JB):  </th> <td>  24.034</td>\n",
              "</tr>\n",
              "<tr>\n",
              "  <th>Skew:</th>          <td> 0.300</td> <th>  Prob(JB):          </th> <td>6.04e-06</td>\n",
              "</tr>\n",
              "<tr>\n",
              "  <th>Kurtosis:</th>      <td> 4.055</td> <th>  Cond. No.          </th> <td>    322.</td>\n",
              "</tr>\n",
              "</table><br/><br/>Warnings:<br/>[1] Standard Errors assume that the covariance matrix of the errors is correctly specified."
            ],
            "text/plain": [
              "<class 'statsmodels.iolib.summary.Summary'>\n",
              "\"\"\"\n",
              "                            OLS Regression Results                            \n",
              "==============================================================================\n",
              "Dep. Variable:                    gpm   R-squared:                       0.731\n",
              "Model:                            OLS   Adj. R-squared:                  0.730\n",
              "Method:                 Least Squares   F-statistic:                     1058.\n",
              "Date:                Sat, 31 Jul 2021   Prob (F-statistic):          3.72e-113\n",
              "Time:                        05:22:22   Log-Likelihood:                 1307.0\n",
              "No. Observations:                 392   AIC:                            -2610.\n",
              "Df Residuals:                     390   BIC:                            -2602.\n",
              "Df Model:                           1                                         \n",
              "Covariance Type:            nonrobust                                         \n",
              "==============================================================================\n",
              "                 coef    std err          t      P>|t|      [0.025      0.975]\n",
              "------------------------------------------------------------------------------\n",
              "Intercept      0.0092      0.001      7.290      0.000       0.007       0.012\n",
              "horsepower     0.0004   1.14e-05     32.530      0.000       0.000       0.000\n",
              "==============================================================================\n",
              "Omnibus:                       15.796   Durbin-Watson:                   1.083\n",
              "Prob(Omnibus):                  0.000   Jarque-Bera (JB):               24.034\n",
              "Skew:                           0.300   Prob(JB):                     6.04e-06\n",
              "Kurtosis:                       4.055   Cond. No.                         322.\n",
              "==============================================================================\n",
              "\n",
              "Warnings:\n",
              "[1] Standard Errors assume that the covariance matrix of the errors is correctly specified.\n",
              "\"\"\""
            ]
          },
          "metadata": {
            "tags": []
          },
          "execution_count": 33
        }
      ]
    },
    {
      "cell_type": "code",
      "metadata": {
        "colab": {
          "base_uri": "https://localhost:8080/",
          "height": 513
        },
        "id": "8B5jnDH315mV",
        "outputId": "86293f5d-9e1f-44e2-aed9-aaf2ca1428fd"
      },
      "source": [
        "sns.jointplot('horsepower', 'gpm', data=cars1, kind=\"reg\")"
      ],
      "execution_count": null,
      "outputs": [
        {
          "output_type": "stream",
          "text": [
            "/usr/local/lib/python3.7/dist-packages/seaborn/_decorators.py:43: FutureWarning: Pass the following variables as keyword args: x, y. From version 0.12, the only valid positional argument will be `data`, and passing other arguments without an explicit keyword will result in an error or misinterpretation.\n",
            "  FutureWarning\n"
          ],
          "name": "stderr"
        },
        {
          "output_type": "execute_result",
          "data": {
            "text/plain": [
              "<seaborn.axisgrid.JointGrid at 0x7f1ec3778c90>"
            ]
          },
          "metadata": {
            "tags": []
          },
          "execution_count": 34
        },
        {
          "output_type": "display_data",
          "data": {
            "image/png": "[encoded data removed]",
            "text/plain": [
              "<Figure size 432x432 with 3 Axes>"
            ]
          },
          "metadata": {
            "tags": [],
            "needs_background": "light"
          }
        }
      ]
    },
    {
      "cell_type": "markdown",
      "metadata": {
        "id": "dKTNMQGl9IMd"
      },
      "source": [
        "# Влияние категориального фактора origin (страна происхождения)\n"
      ]
    },
    {
      "cell_type": "code",
      "metadata": {
        "id": "WOitWzrE9IMe"
      },
      "source": [
        "# вводим фиктивные переменные на основании столбца origin\n",
        "cars2 = pd.concat((cars1,pd.get_dummies(cars1.origin, prefix=\"or\", prefix_sep='',)),1)"
      ],
      "execution_count": null,
      "outputs": []
    },
    {
      "cell_type": "code",
      "metadata": {
        "id": "Yp2BBtO29IMe",
        "colab": {
          "base_uri": "https://localhost:8080/",
          "height": 250
        },
        "outputId": "4418de62-a76d-46c9-dca6-6603b9bf6ff6"
      },
      "source": [
        "cars2.head(3)"
      ],
      "execution_count": null,
      "outputs": [
        {
          "output_type": "execute_result",
          "data": {
            "text/html": [
              "<div>\n",
              "<style scoped>\n",
              "    .dataframe tbody tr th:only-of-type {\n",
              "        vertical-align: middle;\n",
              "    }\n",
              "\n",
              "    .dataframe tbody tr th {\n",
              "        vertical-align: top;\n",
              "    }\n",
              "\n",
              "    .dataframe thead th {\n",
              "        text-align: right;\n",
              "    }\n",
              "</style>\n",
              "<table border=\"1\" class=\"dataframe\">\n",
              "  <thead>\n",
              "    <tr style=\"text-align: right;\">\n",
              "      <th></th>\n",
              "      <th>mpg</th>\n",
              "      <th>cylinders</th>\n",
              "      <th>displacement</th>\n",
              "      <th>horsepower</th>\n",
              "      <th>weight</th>\n",
              "      <th>acceleration</th>\n",
              "      <th>model_year</th>\n",
              "      <th>origin</th>\n",
              "      <th>car_name</th>\n",
              "      <th>gpm</th>\n",
              "      <th>or1</th>\n",
              "      <th>or2</th>\n",
              "      <th>or3</th>\n",
              "    </tr>\n",
              "  </thead>\n",
              "  <tbody>\n",
              "    <tr>\n",
              "      <th>0</th>\n",
              "      <td>18.0</td>\n",
              "      <td>8</td>\n",
              "      <td>307.0</td>\n",
              "      <td>130.0</td>\n",
              "      <td>3504.0</td>\n",
              "      <td>12.0</td>\n",
              "      <td>70</td>\n",
              "      <td>1</td>\n",
              "      <td>chevrolet chevelle malibu</td>\n",
              "      <td>0.055556</td>\n",
              "      <td>1</td>\n",
              "      <td>0</td>\n",
              "      <td>0</td>\n",
              "    </tr>\n",
              "    <tr>\n",
              "      <th>1</th>\n",
              "      <td>15.0</td>\n",
              "      <td>8</td>\n",
              "      <td>350.0</td>\n",
              "      <td>165.0</td>\n",
              "      <td>3693.0</td>\n",
              "      <td>11.5</td>\n",
              "      <td>70</td>\n",
              "      <td>1</td>\n",
              "      <td>buick skylark 320</td>\n",
              "      <td>0.066667</td>\n",
              "      <td>1</td>\n",
              "      <td>0</td>\n",
              "      <td>0</td>\n",
              "    </tr>\n",
              "    <tr>\n",
              "      <th>2</th>\n",
              "      <td>18.0</td>\n",
              "      <td>8</td>\n",
              "      <td>318.0</td>\n",
              "      <td>150.0</td>\n",
              "      <td>3436.0</td>\n",
              "      <td>11.0</td>\n",
              "      <td>70</td>\n",
              "      <td>1</td>\n",
              "      <td>plymouth satellite</td>\n",
              "      <td>0.055556</td>\n",
              "      <td>1</td>\n",
              "      <td>0</td>\n",
              "      <td>0</td>\n",
              "    </tr>\n",
              "  </tbody>\n",
              "</table>\n",
              "</div>"
            ],
            "text/plain": [
              "    mpg  cylinders  displacement  horsepower  ...       gpm  or1  or2  or3\n",
              "0  18.0          8         307.0       130.0  ...  0.055556    1    0    0\n",
              "1  15.0          8         350.0       165.0  ...  0.066667    1    0    0\n",
              "2  18.0          8         318.0       150.0  ...  0.055556    1    0    0\n",
              "\n",
              "[3 rows x 13 columns]"
            ]
          },
          "metadata": {
            "tags": []
          },
          "execution_count": 36
        }
      ]
    },
    {
      "cell_type": "code",
      "metadata": {
        "id": "UZzlP6Qi9IMe",
        "colab": {
          "base_uri": "https://localhost:8080/",
          "height": 494
        },
        "outputId": "84e583b0-c1d8-4ed8-bce1-b9225a9cbb72"
      },
      "source": [
        "# исключаем or1 в качестве базовой и проверяем регрессию\n",
        "resultsm = smf.ols('gpm ~ horsepower + or2 + or3', data=cars2).fit()\n",
        "resultsm.summary()"
      ],
      "execution_count": null,
      "outputs": [
        {
          "output_type": "execute_result",
          "data": {
            "text/html": [
              "<table class=\"simpletable\">\n",
              "<caption>OLS Regression Results</caption>\n",
              "<tr>\n",
              "  <th>Dep. Variable:</th>           <td>gpm</td>       <th>  R-squared:         </th> <td>   0.757</td> \n",
              "</tr>\n",
              "<tr>\n",
              "  <th>Model:</th>                   <td>OLS</td>       <th>  Adj. R-squared:    </th> <td>   0.755</td> \n",
              "</tr>\n",
              "<tr>\n",
              "  <th>Method:</th>             <td>Least Squares</td>  <th>  F-statistic:       </th> <td>   402.5</td> \n",
              "</tr>\n",
              "<tr>\n",
              "  <th>Date:</th>             <td>Sat, 31 Jul 2021</td> <th>  Prob (F-statistic):</th> <td>1.03e-118</td>\n",
              "</tr>\n",
              "<tr>\n",
              "  <th>Time:</th>                 <td>05:23:27</td>     <th>  Log-Likelihood:    </th> <td>  1327.0</td> \n",
              "</tr>\n",
              "<tr>\n",
              "  <th>No. Observations:</th>      <td>   392</td>      <th>  AIC:               </th> <td>  -2646.</td> \n",
              "</tr>\n",
              "<tr>\n",
              "  <th>Df Residuals:</th>          <td>   388</td>      <th>  BIC:               </th> <td>  -2630.</td> \n",
              "</tr>\n",
              "<tr>\n",
              "  <th>Df Model:</th>              <td>     3</td>      <th>                     </th>     <td> </td>    \n",
              "</tr>\n",
              "<tr>\n",
              "  <th>Covariance Type:</th>      <td>nonrobust</td>    <th>                     </th>     <td> </td>    \n",
              "</tr>\n",
              "</table>\n",
              "<table class=\"simpletable\">\n",
              "<tr>\n",
              "       <td></td>         <th>coef</th>     <th>std err</th>      <th>t</th>      <th>P>|t|</th>  <th>[0.025</th>    <th>0.975]</th>  \n",
              "</tr>\n",
              "<tr>\n",
              "  <th>Intercept</th>  <td>    0.0151</td> <td>    0.002</td> <td>    9.643</td> <td> 0.000</td> <td>    0.012</td> <td>    0.018</td>\n",
              "</tr>\n",
              "<tr>\n",
              "  <th>horsepower</th> <td>    0.0003</td> <td> 1.24e-05</td> <td>   26.885</td> <td> 0.000</td> <td>    0.000</td> <td>    0.000</td>\n",
              "</tr>\n",
              "<tr>\n",
              "  <th>or2</th>        <td>   -0.0038</td> <td>    0.001</td> <td>   -3.095</td> <td> 0.002</td> <td>   -0.006</td> <td>   -0.001</td>\n",
              "</tr>\n",
              "<tr>\n",
              "  <th>or3</th>        <td>   -0.0075</td> <td>    0.001</td> <td>   -6.392</td> <td> 0.000</td> <td>   -0.010</td> <td>   -0.005</td>\n",
              "</tr>\n",
              "</table>\n",
              "<table class=\"simpletable\">\n",
              "<tr>\n",
              "  <th>Omnibus:</th>       <td>11.895</td> <th>  Durbin-Watson:     </th> <td>   1.147</td>\n",
              "</tr>\n",
              "<tr>\n",
              "  <th>Prob(Omnibus):</th> <td> 0.003</td> <th>  Jarque-Bera (JB):  </th> <td>  17.267</td>\n",
              "</tr>\n",
              "<tr>\n",
              "  <th>Skew:</th>          <td> 0.236</td> <th>  Prob(JB):          </th> <td>0.000178</td>\n",
              "</tr>\n",
              "<tr>\n",
              "  <th>Kurtosis:</th>      <td> 3.913</td> <th>  Cond. No.          </th> <td>    510.</td>\n",
              "</tr>\n",
              "</table><br/><br/>Warnings:<br/>[1] Standard Errors assume that the covariance matrix of the errors is correctly specified."
            ],
            "text/plain": [
              "<class 'statsmodels.iolib.summary.Summary'>\n",
              "\"\"\"\n",
              "                            OLS Regression Results                            \n",
              "==============================================================================\n",
              "Dep. Variable:                    gpm   R-squared:                       0.757\n",
              "Model:                            OLS   Adj. R-squared:                  0.755\n",
              "Method:                 Least Squares   F-statistic:                     402.5\n",
              "Date:                Sat, 31 Jul 2021   Prob (F-statistic):          1.03e-118\n",
              "Time:                        05:23:27   Log-Likelihood:                 1327.0\n",
              "No. Observations:                 392   AIC:                            -2646.\n",
              "Df Residuals:                     388   BIC:                            -2630.\n",
              "Df Model:                           3                                         \n",
              "Covariance Type:            nonrobust                                         \n",
              "==============================================================================\n",
              "                 coef    std err          t      P>|t|      [0.025      0.975]\n",
              "------------------------------------------------------------------------------\n",
              "Intercept      0.0151      0.002      9.643      0.000       0.012       0.018\n",
              "horsepower     0.0003   1.24e-05     26.885      0.000       0.000       0.000\n",
              "or2           -0.0038      0.001     -3.095      0.002      -0.006      -0.001\n",
              "or3           -0.0075      0.001     -6.392      0.000      -0.010      -0.005\n",
              "==============================================================================\n",
              "Omnibus:                       11.895   Durbin-Watson:                   1.147\n",
              "Prob(Omnibus):                  0.003   Jarque-Bera (JB):               17.267\n",
              "Skew:                           0.236   Prob(JB):                     0.000178\n",
              "Kurtosis:                       3.913   Cond. No.                         510.\n",
              "==============================================================================\n",
              "\n",
              "Warnings:\n",
              "[1] Standard Errors assume that the covariance matrix of the errors is correctly specified.\n",
              "\"\"\""
            ]
          },
          "metadata": {
            "tags": []
          },
          "execution_count": 38
        }
      ]
    },
    {
      "cell_type": "markdown",
      "metadata": {
        "id": "5GYH3PMXzHqN"
      },
      "source": [
        "Коэффициент детерминации R-square вырос\t0.757 (был 0.731), следовательно включение фактора origin в регрессионную модель оправдано!\n"
      ]
    },
    {
      "cell_type": "code",
      "metadata": {
        "id": "I4bHMJUy9IMg"
      },
      "source": [
        "# для полученной модели строим прогноз расхода топлива для машины из США мощностью 130 лс\n",
        "x_new_cars2 = pd.array([1,130,0,0])"
      ],
      "execution_count": null,
      "outputs": []
    },
    {
      "cell_type": "code",
      "metadata": {
        "id": "rkqhSAEs9IMg",
        "colab": {
          "base_uri": "https://localhost:8080/"
        },
        "outputId": "55391656-bb37-4f1a-a2c7-b00a948b2f93"
      },
      "source": [
        "rp=resultsm.params; rp"
      ],
      "execution_count": null,
      "outputs": [
        {
          "output_type": "execute_result",
          "data": {
            "text/plain": [
              "Intercept     0.015127\n",
              "horsepower    0.000334\n",
              "or2          -0.003795\n",
              "or3          -0.007489\n",
              "dtype: float64"
            ]
          },
          "metadata": {
            "tags": []
          },
          "execution_count": 41
        }
      ]
    },
    {
      "cell_type": "code",
      "metadata": {
        "id": "cIvdN9C79IMg",
        "colab": {
          "base_uri": "https://localhost:8080/"
        },
        "outputId": "37b7e74f-9730-409b-8dc8-e0b6d3e15566"
      },
      "source": [
        "y_new_cars2=np.dot(rp,x_new_cars2) # скалярное произведение векторов\n",
        "print('Прогноз расхода топлива: {:.5f} gal/ml'.format(y_new_cars2)) "
      ],
      "execution_count": null,
      "outputs": [
        {
          "output_type": "stream",
          "text": [
            "Прогноз расхода топлива: 0.05851 gal/ml\n"
          ],
          "name": "stdout"
        }
      ]
    },
    {
      "cell_type": "markdown",
      "metadata": {
        "id": "ItoNaSa_9IMi"
      },
      "source": [
        "# ПОСТРОЕНИЕ МОДЕЛИ МАШИННОГО ОБУЧЕНИЯ"
      ]
    },
    {
      "cell_type": "code",
      "metadata": {
        "id": "xgQavR_09IMi"
      },
      "source": [
        "from sklearn.metrics import accuracy_score                   # точность\n",
        "from sklearn.model_selection import train_test_split         # разбиение на обучающую и тестовую выборку"
      ],
      "execution_count": null,
      "outputs": []
    },
    {
      "cell_type": "code",
      "metadata": {
        "id": "KkxnqpYg9IMj",
        "colab": {
          "base_uri": "https://localhost:8080/",
          "height": 537
        },
        "outputId": "62021532-13d7-427e-db0c-9f0c5ec17901"
      },
      "source": [
        "cars2"
      ],
      "execution_count": null,
      "outputs": [
        {
          "output_type": "execute_result",
          "data": {
            "text/html": [
              "<div>\n",
              "<style scoped>\n",
              "    .dataframe tbody tr th:only-of-type {\n",
              "        vertical-align: middle;\n",
              "    }\n",
              "\n",
              "    .dataframe tbody tr th {\n",
              "        vertical-align: top;\n",
              "    }\n",
              "\n",
              "    .dataframe thead th {\n",
              "        text-align: right;\n",
              "    }\n",
              "</style>\n",
              "<table border=\"1\" class=\"dataframe\">\n",
              "  <thead>\n",
              "    <tr style=\"text-align: right;\">\n",
              "      <th></th>\n",
              "      <th>mpg</th>\n",
              "      <th>cylinders</th>\n",
              "      <th>displacement</th>\n",
              "      <th>horsepower</th>\n",
              "      <th>weight</th>\n",
              "      <th>acceleration</th>\n",
              "      <th>model_year</th>\n",
              "      <th>origin</th>\n",
              "      <th>car_name</th>\n",
              "      <th>gpm</th>\n",
              "      <th>or1</th>\n",
              "      <th>or2</th>\n",
              "      <th>or3</th>\n",
              "    </tr>\n",
              "  </thead>\n",
              "  <tbody>\n",
              "    <tr>\n",
              "      <th>0</th>\n",
              "      <td>18.0</td>\n",
              "      <td>8</td>\n",
              "      <td>307.0</td>\n",
              "      <td>130.0</td>\n",
              "      <td>3504.0</td>\n",
              "      <td>12.0</td>\n",
              "      <td>70</td>\n",
              "      <td>1</td>\n",
              "      <td>chevrolet chevelle malibu</td>\n",
              "      <td>0.055556</td>\n",
              "      <td>1</td>\n",
              "      <td>0</td>\n",
              "      <td>0</td>\n",
              "    </tr>\n",
              "    <tr>\n",
              "      <th>1</th>\n",
              "      <td>15.0</td>\n",
              "      <td>8</td>\n",
              "      <td>350.0</td>\n",
              "      <td>165.0</td>\n",
              "      <td>3693.0</td>\n",
              "      <td>11.5</td>\n",
              "      <td>70</td>\n",
              "      <td>1</td>\n",
              "      <td>buick skylark 320</td>\n",
              "      <td>0.066667</td>\n",
              "      <td>1</td>\n",
              "      <td>0</td>\n",
              "      <td>0</td>\n",
              "    </tr>\n",
              "    <tr>\n",
              "      <th>2</th>\n",
              "      <td>18.0</td>\n",
              "      <td>8</td>\n",
              "      <td>318.0</td>\n",
              "      <td>150.0</td>\n",
              "      <td>3436.0</td>\n",
              "      <td>11.0</td>\n",
              "      <td>70</td>\n",
              "      <td>1</td>\n",
              "      <td>plymouth satellite</td>\n",
              "      <td>0.055556</td>\n",
              "      <td>1</td>\n",
              "      <td>0</td>\n",
              "      <td>0</td>\n",
              "    </tr>\n",
              "    <tr>\n",
              "      <th>3</th>\n",
              "      <td>16.0</td>\n",
              "      <td>8</td>\n",
              "      <td>304.0</td>\n",
              "      <td>150.0</td>\n",
              "      <td>3433.0</td>\n",
              "      <td>12.0</td>\n",
              "      <td>70</td>\n",
              "      <td>1</td>\n",
              "      <td>amc rebel sst</td>\n",
              "      <td>0.062500</td>\n",
              "      <td>1</td>\n",
              "      <td>0</td>\n",
              "      <td>0</td>\n",
              "    </tr>\n",
              "    <tr>\n",
              "      <th>...</th>\n",
              "      <td>...</td>\n",
              "      <td>...</td>\n",
              "      <td>...</td>\n",
              "      <td>...</td>\n",
              "      <td>...</td>\n",
              "      <td>...</td>\n",
              "      <td>...</td>\n",
              "      <td>...</td>\n",
              "      <td>...</td>\n",
              "      <td>...</td>\n",
              "      <td>...</td>\n",
              "      <td>...</td>\n",
              "      <td>...</td>\n",
              "    </tr>\n",
              "    <tr>\n",
              "      <th>394</th>\n",
              "      <td>44.0</td>\n",
              "      <td>4</td>\n",
              "      <td>97.0</td>\n",
              "      <td>52.0</td>\n",
              "      <td>2130.0</td>\n",
              "      <td>24.6</td>\n",
              "      <td>82</td>\n",
              "      <td>2</td>\n",
              "      <td>vw pickup</td>\n",
              "      <td>0.022727</td>\n",
              "      <td>0</td>\n",
              "      <td>1</td>\n",
              "      <td>0</td>\n",
              "    </tr>\n",
              "    <tr>\n",
              "      <th>395</th>\n",
              "      <td>32.0</td>\n",
              "      <td>4</td>\n",
              "      <td>135.0</td>\n",
              "      <td>84.0</td>\n",
              "      <td>2295.0</td>\n",
              "      <td>11.6</td>\n",
              "      <td>82</td>\n",
              "      <td>1</td>\n",
              "      <td>dodge rampage</td>\n",
              "      <td>0.031250</td>\n",
              "      <td>1</td>\n",
              "      <td>0</td>\n",
              "      <td>0</td>\n",
              "    </tr>\n",
              "    <tr>\n",
              "      <th>396</th>\n",
              "      <td>28.0</td>\n",
              "      <td>4</td>\n",
              "      <td>120.0</td>\n",
              "      <td>79.0</td>\n",
              "      <td>2625.0</td>\n",
              "      <td>18.6</td>\n",
              "      <td>82</td>\n",
              "      <td>1</td>\n",
              "      <td>ford ranger</td>\n",
              "      <td>0.035714</td>\n",
              "      <td>1</td>\n",
              "      <td>0</td>\n",
              "      <td>0</td>\n",
              "    </tr>\n",
              "    <tr>\n",
              "      <th>397</th>\n",
              "      <td>31.0</td>\n",
              "      <td>4</td>\n",
              "      <td>119.0</td>\n",
              "      <td>82.0</td>\n",
              "      <td>2720.0</td>\n",
              "      <td>19.4</td>\n",
              "      <td>82</td>\n",
              "      <td>1</td>\n",
              "      <td>chevy s-10</td>\n",
              "      <td>0.032258</td>\n",
              "      <td>1</td>\n",
              "      <td>0</td>\n",
              "      <td>0</td>\n",
              "    </tr>\n",
              "  </tbody>\n",
              "</table>\n",
              "<p>392 rows × 13 columns</p>\n",
              "</div>"
            ],
            "text/plain": [
              "      mpg  cylinders  displacement  horsepower  ...       gpm  or1  or2  or3\n",
              "0    18.0          8         307.0       130.0  ...  0.055556    1    0    0\n",
              "1    15.0          8         350.0       165.0  ...  0.066667    1    0    0\n",
              "2    18.0          8         318.0       150.0  ...  0.055556    1    0    0\n",
              "3    16.0          8         304.0       150.0  ...  0.062500    1    0    0\n",
              "..    ...        ...           ...         ...  ...       ...  ...  ...  ...\n",
              "394  44.0          4          97.0        52.0  ...  0.022727    0    1    0\n",
              "395  32.0          4         135.0        84.0  ...  0.031250    1    0    0\n",
              "396  28.0          4         120.0        79.0  ...  0.035714    1    0    0\n",
              "397  31.0          4         119.0        82.0  ...  0.032258    1    0    0\n",
              "\n",
              "[392 rows x 13 columns]"
            ]
          },
          "metadata": {
            "tags": []
          },
          "execution_count": 44
        }
      ]
    },
    {
      "cell_type": "code",
      "metadata": {
        "id": "2xN3Ygmm9IMk"
      },
      "source": [
        "X=cars2.drop(['mpg', 'gpm', 'origin', 'car_name'],axis=1) "
      ],
      "execution_count": null,
      "outputs": []
    },
    {
      "cell_type": "code",
      "metadata": {
        "id": "YGVMSeoy9IMk",
        "colab": {
          "base_uri": "https://localhost:8080/",
          "height": 206
        },
        "outputId": "8c994f12-a6a9-44bc-c3d1-aefa03244f02"
      },
      "source": [
        "X.head() # Матрица признаков (features)"
      ],
      "execution_count": null,
      "outputs": [
        {
          "output_type": "execute_result",
          "data": {
            "text/html": [
              "<div>\n",
              "<style scoped>\n",
              "    .dataframe tbody tr th:only-of-type {\n",
              "        vertical-align: middle;\n",
              "    }\n",
              "\n",
              "    .dataframe tbody tr th {\n",
              "        vertical-align: top;\n",
              "    }\n",
              "\n",
              "    .dataframe thead th {\n",
              "        text-align: right;\n",
              "    }\n",
              "</style>\n",
              "<table border=\"1\" class=\"dataframe\">\n",
              "  <thead>\n",
              "    <tr style=\"text-align: right;\">\n",
              "      <th></th>\n",
              "      <th>cylinders</th>\n",
              "      <th>displacement</th>\n",
              "      <th>horsepower</th>\n",
              "      <th>weight</th>\n",
              "      <th>acceleration</th>\n",
              "      <th>model_year</th>\n",
              "      <th>or1</th>\n",
              "      <th>or2</th>\n",
              "      <th>or3</th>\n",
              "    </tr>\n",
              "  </thead>\n",
              "  <tbody>\n",
              "    <tr>\n",
              "      <th>0</th>\n",
              "      <td>8</td>\n",
              "      <td>307.0</td>\n",
              "      <td>130.0</td>\n",
              "      <td>3504.0</td>\n",
              "      <td>12.0</td>\n",
              "      <td>70</td>\n",
              "      <td>1</td>\n",
              "      <td>0</td>\n",
              "      <td>0</td>\n",
              "    </tr>\n",
              "    <tr>\n",
              "      <th>1</th>\n",
              "      <td>8</td>\n",
              "      <td>350.0</td>\n",
              "      <td>165.0</td>\n",
              "      <td>3693.0</td>\n",
              "      <td>11.5</td>\n",
              "      <td>70</td>\n",
              "      <td>1</td>\n",
              "      <td>0</td>\n",
              "      <td>0</td>\n",
              "    </tr>\n",
              "    <tr>\n",
              "      <th>2</th>\n",
              "      <td>8</td>\n",
              "      <td>318.0</td>\n",
              "      <td>150.0</td>\n",
              "      <td>3436.0</td>\n",
              "      <td>11.0</td>\n",
              "      <td>70</td>\n",
              "      <td>1</td>\n",
              "      <td>0</td>\n",
              "      <td>0</td>\n",
              "    </tr>\n",
              "    <tr>\n",
              "      <th>3</th>\n",
              "      <td>8</td>\n",
              "      <td>304.0</td>\n",
              "      <td>150.0</td>\n",
              "      <td>3433.0</td>\n",
              "      <td>12.0</td>\n",
              "      <td>70</td>\n",
              "      <td>1</td>\n",
              "      <td>0</td>\n",
              "      <td>0</td>\n",
              "    </tr>\n",
              "    <tr>\n",
              "      <th>4</th>\n",
              "      <td>8</td>\n",
              "      <td>302.0</td>\n",
              "      <td>140.0</td>\n",
              "      <td>3449.0</td>\n",
              "      <td>10.5</td>\n",
              "      <td>70</td>\n",
              "      <td>1</td>\n",
              "      <td>0</td>\n",
              "      <td>0</td>\n",
              "    </tr>\n",
              "  </tbody>\n",
              "</table>\n",
              "</div>"
            ],
            "text/plain": [
              "   cylinders  displacement  horsepower  weight  ...  model_year  or1  or2  or3\n",
              "0          8         307.0       130.0  3504.0  ...          70    1    0    0\n",
              "1          8         350.0       165.0  3693.0  ...          70    1    0    0\n",
              "2          8         318.0       150.0  3436.0  ...          70    1    0    0\n",
              "3          8         304.0       150.0  3433.0  ...          70    1    0    0\n",
              "4          8         302.0       140.0  3449.0  ...          70    1    0    0\n",
              "\n",
              "[5 rows x 9 columns]"
            ]
          },
          "metadata": {
            "tags": []
          },
          "execution_count": 46
        }
      ]
    },
    {
      "cell_type": "code",
      "metadata": {
        "id": "uDWvKNOc9IMl",
        "colab": {
          "base_uri": "https://localhost:8080/",
          "height": 361
        },
        "outputId": "f9029628-8fa0-4ef7-e4c4-69f803d427d8"
      },
      "source": [
        "Y=cars2[['gpm']] # Зависимая (целевая) переменная\n",
        "Y"
      ],
      "execution_count": null,
      "outputs": [
        {
          "output_type": "execute_result",
          "data": {
            "text/html": [
              "<div>\n",
              "<style scoped>\n",
              "    .dataframe tbody tr th:only-of-type {\n",
              "        vertical-align: middle;\n",
              "    }\n",
              "\n",
              "    .dataframe tbody tr th {\n",
              "        vertical-align: top;\n",
              "    }\n",
              "\n",
              "    .dataframe thead th {\n",
              "        text-align: right;\n",
              "    }\n",
              "</style>\n",
              "<table border=\"1\" class=\"dataframe\">\n",
              "  <thead>\n",
              "    <tr style=\"text-align: right;\">\n",
              "      <th></th>\n",
              "      <th>gpm</th>\n",
              "    </tr>\n",
              "  </thead>\n",
              "  <tbody>\n",
              "    <tr>\n",
              "      <th>0</th>\n",
              "      <td>0.055556</td>\n",
              "    </tr>\n",
              "    <tr>\n",
              "      <th>1</th>\n",
              "      <td>0.066667</td>\n",
              "    </tr>\n",
              "    <tr>\n",
              "      <th>2</th>\n",
              "      <td>0.055556</td>\n",
              "    </tr>\n",
              "    <tr>\n",
              "      <th>3</th>\n",
              "      <td>0.062500</td>\n",
              "    </tr>\n",
              "    <tr>\n",
              "      <th>...</th>\n",
              "      <td>...</td>\n",
              "    </tr>\n",
              "    <tr>\n",
              "      <th>394</th>\n",
              "      <td>0.022727</td>\n",
              "    </tr>\n",
              "    <tr>\n",
              "      <th>395</th>\n",
              "      <td>0.031250</td>\n",
              "    </tr>\n",
              "    <tr>\n",
              "      <th>396</th>\n",
              "      <td>0.035714</td>\n",
              "    </tr>\n",
              "    <tr>\n",
              "      <th>397</th>\n",
              "      <td>0.032258</td>\n",
              "    </tr>\n",
              "  </tbody>\n",
              "</table>\n",
              "<p>392 rows × 1 columns</p>\n",
              "</div>"
            ],
            "text/plain": [
              "          gpm\n",
              "0    0.055556\n",
              "1    0.066667\n",
              "2    0.055556\n",
              "3    0.062500\n",
              "..        ...\n",
              "394  0.022727\n",
              "395  0.031250\n",
              "396  0.035714\n",
              "397  0.032258\n",
              "\n",
              "[392 rows x 1 columns]"
            ]
          },
          "metadata": {
            "tags": []
          },
          "execution_count": 47
        }
      ]
    },
    {
      "cell_type": "code",
      "metadata": {
        "id": "s5tYXGqF9IMm"
      },
      "source": [
        "Xtrn, Xtest, Ytrn, Ytest = train_test_split(X, Y, test_size=0.25) # разбиение на train и test"
      ],
      "execution_count": null,
      "outputs": []
    },
    {
      "cell_type": "code",
      "metadata": {
        "id": "bFDGANER9IMm",
        "colab": {
          "base_uri": "https://localhost:8080/"
        },
        "outputId": "65f70ad4-8f0c-4dd6-da8a-45ef43953aff"
      },
      "source": [
        "Xtrn.shape # количество наблюдений в обучающей выборке"
      ],
      "execution_count": null,
      "outputs": [
        {
          "output_type": "execute_result",
          "data": {
            "text/plain": [
              "(294, 9)"
            ]
          },
          "metadata": {
            "tags": []
          },
          "execution_count": 49
        }
      ]
    },
    {
      "cell_type": "code",
      "metadata": {
        "colab": {
          "base_uri": "https://localhost:8080/"
        },
        "id": "_kQnYWYnJZ0h",
        "outputId": "0b21bd63-3ddf-4590-fd32-ba2c275da477"
      },
      "source": [
        "Xtest.shape # количество наблюдений в тестовой выборке"
      ],
      "execution_count": null,
      "outputs": [
        {
          "output_type": "execute_result",
          "data": {
            "text/plain": [
              "(98, 9)"
            ]
          },
          "metadata": {
            "tags": []
          },
          "execution_count": 50
        }
      ]
    },
    {
      "cell_type": "markdown",
      "metadata": {
        "id": "z2d4XkIwKe1E"
      },
      "source": [
        "# Алгоритмы машинного обучения\n",
        "воспользуемся готовыми моделями:\n"
      ]
    },
    {
      "cell_type": "markdown",
      "metadata": {
        "id": "_vVFieCn9IMn"
      },
      "source": [
        "## 1. Linear Regressor"
      ]
    },
    {
      "cell_type": "code",
      "metadata": {
        "id": "FW43-Omr9IMn"
      },
      "source": [
        "LR = lm.LinearRegression()"
      ],
      "execution_count": null,
      "outputs": []
    },
    {
      "cell_type": "code",
      "metadata": {
        "id": "h24J9-eC9IMo"
      },
      "source": [
        "model = LR.fit(Xtrn,Ytrn) # Обучение на выборке train"
      ],
      "execution_count": null,
      "outputs": []
    },
    {
      "cell_type": "code",
      "metadata": {
        "id": "uVuLzKqU9IMo",
        "colab": {
          "base_uri": "https://localhost:8080/"
        },
        "outputId": "b86d1b09-10e3-4b93-edab-1f9621079167"
      },
      "source": [
        "model.intercept_, model.coef_ # Коэффициенты уравнения модели"
      ],
      "execution_count": null,
      "outputs": [
        {
          "output_type": "execute_result",
          "data": {
            "text/plain": [
              "(array([0.09057282]),\n",
              " array([[ 1.56946203e-03, -1.53284052e-05,  8.13883259e-05,\n",
              "          1.04187587e-05,  1.41890148e-04, -1.19600519e-03,\n",
              "          1.50758385e-03, -1.24524891e-03, -2.62334937e-04]]))"
            ]
          },
          "metadata": {
            "tags": []
          },
          "execution_count": 54
        }
      ]
    },
    {
      "cell_type": "code",
      "metadata": {
        "id": "yls18WnZ9IMp",
        "colab": {
          "base_uri": "https://localhost:8080/"
        },
        "outputId": "467e5288-25b3-4e47-e235-7d5807960002"
      },
      "source": [
        "r2 = model.score(Xtrn,Ytrn) # Коэффициент детерминации\n",
        "r2"
      ],
      "execution_count": null,
      "outputs": [
        {
          "output_type": "execute_result",
          "data": {
            "text/plain": [
              "0.8809683482203278"
            ]
          },
          "metadata": {
            "tags": []
          },
          "execution_count": 55
        }
      ]
    },
    {
      "cell_type": "code",
      "metadata": {
        "id": "liiFvhsK9IMq"
      },
      "source": [
        "Ytrn_pred=model.predict(Xtrn) # Предсказание на train\n",
        "Ytest_pred=model.predict(Xtest) # Предсказание на test"
      ],
      "execution_count": null,
      "outputs": []
    },
    {
      "cell_type": "code",
      "metadata": {
        "id": "IGZ7f2019IMq"
      },
      "source": [
        "from sklearn.metrics import mean_absolute_error, mean_squared_error, median_absolute_error, r2_score\n",
        "import math"
      ],
      "execution_count": null,
      "outputs": []
    },
    {
      "cell_type": "markdown",
      "metadata": {
        "id": "kOA6YT8F9IMr"
      },
      "source": [
        "## Метрики качества\n",
        "Коэффициент детерминации\n",
        "$$ R^2=1-\\frac{\\sum{(y_i-\\hat y_i)^2}}{\\sum{(y_i-\\bar y)^2}}=\\frac{\\sum{(\\hat y_i-\\bar y)^2}}{\\sum{(y_i-\\bar y)^2}} $$\n",
        "\n",
        "Mean Squared Error\n",
        "$$ MSE=\\frac{1}{n}\\sum{(y_i-\\hat y_i)^2}$$\n",
        "\n",
        "Root Mean Squared Error\n",
        "$$ RMSE=\\sqrt{\\frac{1}{n}\\sum{(y_i-\\hat y_i)^2}}$$"
      ]
    },
    {
      "cell_type": "code",
      "metadata": {
        "id": "7fgHAf3w9IMr",
        "colab": {
          "base_uri": "https://localhost:8080/"
        },
        "outputId": "03b8ce08-aaf9-43a8-946c-50632ef5f9e9"
      },
      "source": [
        "mse_tr= mean_squared_error(Ytrn, Ytrn_pred)\n",
        "mse_te=mean_squared_error(Ytest, Ytest_pred)\n",
        "\n",
        "rmse_tr=math.sqrt(mse_tr)\n",
        "rmse_te=math.sqrt(mse_te)\n",
        "\n",
        "r2_tr=r2_score(Ytrn, Ytrn_pred)\n",
        "r2_te=r2_score(Ytest, Ytest_pred)\n",
        "\n",
        "print('MSE train: {:.6f}, test: {:.6f}'.format(mse_tr, mse_te))\n",
        "\n",
        "print('RMSE train: {:.6f}, test: {:.6f}'.format(rmse_tr, rmse_te))\n",
        "\n",
        "print('R2 train: {:.7f}, test: {:.7f}'.format(r2_tr, r2_te))"
      ],
      "execution_count": null,
      "outputs": [
        {
          "output_type": "stream",
          "text": [
            "MSE train: 0.000031, test: 0.000034\n",
            "RMSE train: 0.005612, test: 0.005846\n",
            "R2 train: 0.8809683, test: 0.8900205\n"
          ],
          "name": "stdout"
        }
      ]
    },
    {
      "cell_type": "markdown",
      "metadata": {
        "id": "uBN_X2fo9IMs"
      },
      "source": [
        "# 2. Дерево решений (Decision tree)"
      ]
    },
    {
      "cell_type": "code",
      "metadata": {
        "id": "qq5RVv_Z9IMs"
      },
      "source": [
        " from sklearn import tree"
      ],
      "execution_count": null,
      "outputs": []
    },
    {
      "cell_type": "code",
      "metadata": {
        "id": "hF30RBT09IMt"
      },
      "source": [
        " dtr = tree.DecisionTreeRegressor()"
      ],
      "execution_count": null,
      "outputs": []
    },
    {
      "cell_type": "code",
      "metadata": {
        "id": "GrcC8q0x9IMt"
      },
      "source": [
        " modelTr = dtr.fit(Xtrn, Ytrn)"
      ],
      "execution_count": null,
      "outputs": []
    },
    {
      "cell_type": "code",
      "metadata": {
        "id": "l7WOdAg09IMt"
      },
      "source": [
        "Ytrn_pred_Tr=modelTr.predict(Xtrn) # Предсказание на train\n",
        "Ytest_pred_Tr=modelTr.predict(Xtest) # Предсказание на test"
      ],
      "execution_count": null,
      "outputs": []
    },
    {
      "cell_type": "code",
      "metadata": {
        "id": "CYb3uFe19IMu"
      },
      "source": [
        "mse_tr_Tr= mean_squared_error(Ytrn, Ytrn_pred_Tr)\n",
        "mse_te_Tr=mean_squared_error(Ytest, Ytest_pred_Tr)\n",
        "\n",
        "rmse_tr_Tr=math.sqrt(mse_tr_Tr)\n",
        "rmse_te_Tr=math.sqrt(mse_te_Tr)\n",
        "\n",
        "r2_tr_Tr=r2_score(Ytrn, Ytrn_pred_Tr)\n",
        "r2_te_Tr=r2_score(Ytest, Ytest_pred_Tr)"
      ],
      "execution_count": null,
      "outputs": []
    },
    {
      "cell_type": "code",
      "metadata": {
        "id": "tJerZ52x9IMu",
        "colab": {
          "base_uri": "https://localhost:8080/"
        },
        "outputId": "0c56fd8e-c86e-4266-e330-a39fd9284e36"
      },
      "source": [
        "print('MSE train: {:.8f}, test: {:.8f}'.format(mse_tr_Tr, mse_te_Tr))\n",
        "\n",
        "print('RMSE train: {:.6f}, test: {:.6f}'.format(rmse_tr_Tr, rmse_te_Tr))\n",
        "\n",
        "print('R2 train: {:.7f}, test: {:.7f}'.format(r2_tr_Tr, r2_te_Tr))"
      ],
      "execution_count": null,
      "outputs": [
        {
          "output_type": "stream",
          "text": [
            "MSE train: 0.00000001, test: 0.00007393\n",
            "RMSE train: 0.000093, test: 0.008598\n",
            "R2 train: 0.9999676, test: 0.7620461\n"
          ],
          "name": "stdout"
        }
      ]
    },
    {
      "cell_type": "markdown",
      "metadata": {
        "id": "HU8aIDr39IMx"
      },
      "source": [
        "# 3. Случайный лес (Random Forest)"
      ]
    },
    {
      "cell_type": "code",
      "metadata": {
        "id": "mbTpOugt9IMy"
      },
      "source": [
        "from sklearn.ensemble import RandomForestRegressor"
      ],
      "execution_count": null,
      "outputs": []
    },
    {
      "cell_type": "code",
      "metadata": {
        "id": "gY70BhJ69IMy"
      },
      "source": [
        "RFR= RandomForestRegressor(n_estimators=100, max_features ='auto')"
      ],
      "execution_count": null,
      "outputs": []
    },
    {
      "cell_type": "code",
      "metadata": {
        "id": "OcxlcXkq9IMy",
        "colab": {
          "base_uri": "https://localhost:8080/"
        },
        "outputId": "b946119c-f1cd-4dfe-863a-b2905f617c20"
      },
      "source": [
        "modelRF = RFR.fit(Xtrn,Ytrn)"
      ],
      "execution_count": null,
      "outputs": [
        {
          "output_type": "stream",
          "text": [
            "/usr/local/lib/python3.7/dist-packages/ipykernel_launcher.py:1: DataConversionWarning: A column-vector y was passed when a 1d array was expected. Please change the shape of y to (n_samples,), for example using ravel().\n",
            "  \"\"\"Entry point for launching an IPython kernel.\n"
          ],
          "name": "stderr"
        }
      ]
    },
    {
      "cell_type": "code",
      "metadata": {
        "id": "MXAsq_M19IMz",
        "colab": {
          "base_uri": "https://localhost:8080/"
        },
        "outputId": "7dd7f62f-5f72-4204-9ec6-9646ef6d46d6"
      },
      "source": [
        "modelRF.feature_importances_"
      ],
      "execution_count": null,
      "outputs": [
        {
          "output_type": "execute_result",
          "data": {
            "text/plain": [
              "array([0.042839  , 0.56869677, 0.15190263, 0.15187485, 0.02497214,\n",
              "       0.0570724 , 0.00072553, 0.00069205, 0.00122464])"
            ]
          },
          "metadata": {
            "tags": []
          },
          "execution_count": 68
        }
      ]
    },
    {
      "cell_type": "code",
      "metadata": {
        "id": "fGdGA_QF9IMz"
      },
      "source": [
        "Ytrn_pred_RF=modelRF.predict(Xtrn) # Предсказание на train\n",
        "Ytest_pred_RF=modelRF.predict(Xtest) # Предсказание на test"
      ],
      "execution_count": null,
      "outputs": []
    },
    {
      "cell_type": "code",
      "metadata": {
        "id": "8Xadb2Bo9IMz"
      },
      "source": [
        "mse_tr_RF= mean_squared_error(Ytrn, Ytrn_pred_RF)\n",
        "mse_te_RF=mean_squared_error(Ytest, Ytest_pred_RF)\n",
        "\n",
        "rmse_tr_RF=math.sqrt(mse_tr_RF)\n",
        "rmse_te_RF=math.sqrt(mse_te_RF)\n",
        "\n",
        "r2_tr_RF=r2_score(Ytrn, Ytrn_pred_RF)\n",
        "r2_te_RF=r2_score(Ytest, Ytest_pred_RF)"
      ],
      "execution_count": null,
      "outputs": []
    },
    {
      "cell_type": "markdown",
      "metadata": {
        "id": "P3IReg__9IM0"
      },
      "source": [
        "Для RandomForest"
      ]
    },
    {
      "cell_type": "code",
      "metadata": {
        "id": "furADg5b9IM0",
        "colab": {
          "base_uri": "https://localhost:8080/"
        },
        "outputId": "dfe6833c-af13-4070-f8ae-fb3985926ee1"
      },
      "source": [
        "print('MSE train: {:.8f}, test: {:.8f}'.format(mse_tr_RF, mse_te_RF))\n",
        "\n",
        "print('RMSE train: {:.8f}, test: {:.8f}'.format(rmse_tr_RF, rmse_te_RF))\n",
        "\n",
        "print('R2 train: {:.9f}, test: {:.9f}'.format(r2_tr_RF, r2_te_RF))"
      ],
      "execution_count": null,
      "outputs": [
        {
          "output_type": "stream",
          "text": [
            "MSE train: 0.00000386, test: 0.00003719\n",
            "RMSE train: 0.00196408, test: 0.00609798\n",
            "R2 train: 0.985421590, test: 0.880319788\n"
          ],
          "name": "stdout"
        }
      ]
    },
    {
      "cell_type": "markdown",
      "metadata": {
        "id": "l2LgcH_y9IM0"
      },
      "source": [
        "# 4. Gradient Boosting Regression"
      ]
    },
    {
      "cell_type": "code",
      "metadata": {
        "id": "58Jnzs3F9IM1"
      },
      "source": [
        "from sklearn.ensemble import GradientBoostingRegressor"
      ],
      "execution_count": null,
      "outputs": []
    },
    {
      "cell_type": "code",
      "metadata": {
        "id": "P0DTmxVR9IM1"
      },
      "source": [
        "params = {'n_estimators': 500,\n",
        "          'max_depth': 4,\n",
        "          'min_samples_split': 5,\n",
        "          'learning_rate': 0.01,\n",
        "          'loss': 'ls'}"
      ],
      "execution_count": null,
      "outputs": []
    },
    {
      "cell_type": "code",
      "metadata": {
        "id": "tSIJwgyu9IM1",
        "colab": {
          "base_uri": "https://localhost:8080/"
        },
        "outputId": "f19b0ce1-19a6-42a9-c8b7-e1e354395664"
      },
      "source": [
        "GBR = GradientBoostingRegressor(**params)\n",
        "modelGB = GBR.fit(Xtrn, Ytrn)"
      ],
      "execution_count": null,
      "outputs": [
        {
          "output_type": "stream",
          "text": [
            "/usr/local/lib/python3.7/dist-packages/sklearn/ensemble/_gb.py:1454: DataConversionWarning: A column-vector y was passed when a 1d array was expected. Please change the shape of y to (n_samples, ), for example using ravel().\n",
            "  y = column_or_1d(y, warn=True)\n"
          ],
          "name": "stderr"
        }
      ]
    },
    {
      "cell_type": "code",
      "metadata": {
        "id": "QA5D5Fc89IM1",
        "colab": {
          "base_uri": "https://localhost:8080/"
        },
        "outputId": "7c8fed6a-3016-456a-8d4c-a4a425a778af"
      },
      "source": [
        "modelGB.feature_importances_"
      ],
      "execution_count": null,
      "outputs": [
        {
          "output_type": "execute_result",
          "data": {
            "text/plain": [
              "array([2.62075707e-02, 6.49206734e-01, 1.44932630e-01, 8.74153377e-02,\n",
              "       2.20468840e-02, 6.82049565e-02, 4.77219879e-04, 2.36125925e-04,\n",
              "       1.27254047e-03])"
            ]
          },
          "metadata": {
            "tags": []
          },
          "execution_count": 75
        }
      ]
    },
    {
      "cell_type": "code",
      "metadata": {
        "id": "MIgpXiis9IM2"
      },
      "source": [
        "Ytrn_pred_GB=modelGB.predict(Xtrn) # Предсказание на train\n",
        "Ytest_pred_GB=modelGB.predict(Xtest) # Предсказание на test"
      ],
      "execution_count": null,
      "outputs": []
    },
    {
      "cell_type": "code",
      "metadata": {
        "id": "I3eJuYun9IM2"
      },
      "source": [
        "mse_tr_GB= mean_squared_error(Ytrn, Ytrn_pred_GB)\n",
        "mse_te_GB=mean_squared_error(Ytest, Ytest_pred_GB)\n",
        "\n",
        "rmse_tr_GB=math.sqrt(mse_tr_GB)\n",
        "rmse_te_GB=math.sqrt(mse_te_GB)\n",
        "\n",
        "r2_tr_GB=r2_score(Ytrn, Ytrn_pred_GB)\n",
        "r2_te_GB=r2_score(Ytest, Ytest_pred_GB)\n"
      ],
      "execution_count": null,
      "outputs": []
    },
    {
      "cell_type": "markdown",
      "metadata": {
        "id": "6pkJeE9Q9IM2"
      },
      "source": [
        "Для Gradient Boosting"
      ]
    },
    {
      "cell_type": "code",
      "metadata": {
        "id": "WRvbPt2y9IM3",
        "colab": {
          "base_uri": "https://localhost:8080/"
        },
        "outputId": "54dc7092-d7d7-4b56-c370-db65a8c5964d"
      },
      "source": [
        "print('MSE train: {:.8f}, test: {:.8f}'.format(mse_tr_GB, mse_te_GB))\n",
        "\n",
        "print('RMSE train: {:.8f}, test: {:.8f}'.format(rmse_tr_GB, rmse_te_GB))\n",
        "\n",
        "print('R2 train: {:.9f}, test: {:.9f}'.format(r2_tr_GB, r2_te_GB))"
      ],
      "execution_count": null,
      "outputs": [
        {
          "output_type": "stream",
          "text": [
            "MSE train: 0.00000621, test: 0.00003619\n",
            "RMSE train: 0.00249175, test: 0.00601566\n",
            "R2 train: 0.976536129, test: 0.883529433\n"
          ],
          "name": "stdout"
        }
      ]
    },
    {
      "cell_type": "markdown",
      "metadata": {
        "id": "1hrmXv1-9IM3"
      },
      "source": [
        "# Сравнение моделей"
      ]
    },
    {
      "cell_type": "code",
      "metadata": {
        "id": "bMVAwP3b9IM3"
      },
      "source": [
        "mes = pd.DataFrame(np.array([['RMSE Train',rmse_tr,rmse_tr_Tr,rmse_tr_RF,rmse_tr_GB],\n",
        "                             ['RMSE Test', rmse_te,rmse_te_Tr,rmse_te_RF,rmse_te_GB],\n",
        "                             ['R2 Train', r2_tr,r2_tr_Tr,r2_tr_RF,r2_tr_GB],\n",
        "                             ['R2 Test', r2_te,r2_te_Tr,r2_te_RF,r2_te_GB]]),\n",
        "                   columns=['Metrics','Linear Regression','Decision Tree','Random Forest','Gradient Boosting'])\n",
        "mes=mes.set_index('Metrics')"
      ],
      "execution_count": null,
      "outputs": []
    },
    {
      "cell_type": "code",
      "metadata": {
        "id": "QAa9M-FA9IM3",
        "colab": {
          "base_uri": "https://localhost:8080/",
          "height": 206
        },
        "outputId": "0fe05d10-6265-439f-f5d3-28a39d5163a5"
      },
      "source": [
        "mes"
      ],
      "execution_count": null,
      "outputs": [
        {
          "output_type": "execute_result",
          "data": {
            "text/html": [
              "<div>\n",
              "<style scoped>\n",
              "    .dataframe tbody tr th:only-of-type {\n",
              "        vertical-align: middle;\n",
              "    }\n",
              "\n",
              "    .dataframe tbody tr th {\n",
              "        vertical-align: top;\n",
              "    }\n",
              "\n",
              "    .dataframe thead th {\n",
              "        text-align: right;\n",
              "    }\n",
              "</style>\n",
              "<table border=\"1\" class=\"dataframe\">\n",
              "  <thead>\n",
              "    <tr style=\"text-align: right;\">\n",
              "      <th></th>\n",
              "      <th>Linear Regression</th>\n",
              "      <th>Decision Tree</th>\n",
              "      <th>Random Forest</th>\n",
              "      <th>Gradient Boosting</th>\n",
              "    </tr>\n",
              "    <tr>\n",
              "      <th>Metrics</th>\n",
              "      <th></th>\n",
              "      <th></th>\n",
              "      <th></th>\n",
              "      <th></th>\n",
              "    </tr>\n",
              "  </thead>\n",
              "  <tbody>\n",
              "    <tr>\n",
              "      <th>RMSE Train</th>\n",
              "      <td>0.005612233094610906</td>\n",
              "      <td>9.261144919489042e-05</td>\n",
              "      <td>0.0019640817130437706</td>\n",
              "      <td>0.0024917490536648427</td>\n",
              "    </tr>\n",
              "    <tr>\n",
              "      <th>RMSE Test</th>\n",
              "      <td>0.0058456234230766626</td>\n",
              "      <td>0.008598476212424544</td>\n",
              "      <td>0.006097983242791583</td>\n",
              "      <td>0.006015658119884949</td>\n",
              "    </tr>\n",
              "    <tr>\n",
              "      <th>R2 Train</th>\n",
              "      <td>0.8809683482203279</td>\n",
              "      <td>0.9999675869111483</td>\n",
              "      <td>0.9854215898819172</td>\n",
              "      <td>0.9765361289403317</td>\n",
              "    </tr>\n",
              "    <tr>\n",
              "      <th>R2 Test</th>\n",
              "      <td>0.890020543981796</td>\n",
              "      <td>0.7620460675252623</td>\n",
              "      <td>0.8803197875776101</td>\n",
              "      <td>0.8835294325583912</td>\n",
              "    </tr>\n",
              "  </tbody>\n",
              "</table>\n",
              "</div>"
            ],
            "text/plain": [
              "                Linear Regression  ...      Gradient Boosting\n",
              "Metrics                            ...                       \n",
              "RMSE Train   0.005612233094610906  ...  0.0024917490536648427\n",
              "RMSE Test   0.0058456234230766626  ...   0.006015658119884949\n",
              "R2 Train       0.8809683482203279  ...     0.9765361289403317\n",
              "R2 Test         0.890020543981796  ...     0.8835294325583912\n",
              "\n",
              "[4 rows x 4 columns]"
            ]
          },
          "metadata": {
            "tags": []
          },
          "execution_count": 80
        }
      ]
    },
    {
      "cell_type": "markdown",
      "metadata": {
        "id": "S3HSV7szRSVe"
      },
      "source": [
        "# ***ВЫВОД: ДЛЯ ОБУЧАЮЩЕЙ И ТЕСТОВОЙ ВЫБОРКИ НАИЛУЧШИЕ РЕЗУЛЬТАТЫ ПОКАЗАЛА МОДЕЛЬ Linear Regressor***"
      ]
    }
  ]
}